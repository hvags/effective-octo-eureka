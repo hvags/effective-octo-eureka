{
 "cells": [
  {
   "cell_type": "code",
   "execution_count": 85,
   "id": "7d5ed13e",
   "metadata": {},
   "outputs": [],
   "source": [
    "dataset_urls = dict()"
   ]
  },
  {
   "cell_type": "code",
   "execution_count": null,
   "id": "e32bcdfb",
   "metadata": {},
   "outputs": [],
   "source": [
    "# wn18rr datasets\n",
    "dataset_urls['wn18rr-full'] = {\n",
    "    'train': 'https://raw.githubusercontent.com/hvags/effective-octo-eureka/main/wn18rr/train_wn18rr.txt',\n",
    "    'validate': 'https://raw.githubusercontent.com/hvags/effective-octo-eureka/main/wn18rr/valid_wn18rr.txt',\n",
    "    'test': 'https://raw.githubusercontent.com/hvags/effective-octo-eureka/main/wn18rr/test_wn18rr.txt'\n",
    "    }"
   ]
  },
  {
   "cell_type": "code",
   "execution_count": 86,
   "id": "443164bc",
   "metadata": {},
   "outputs": [],
   "source": [
    "dataset_urls['wn18rr-sym'] = {\n",
    "    'train': 'https://raw.githubusercontent.com/hvags/effective-octo-eureka/main/wn18rr/sym_train_wn18rr.txt',\n",
    "    'validate': 'https://raw.githubusercontent.com/hvags/effective-octo-eureka/main/wn18rr/sym_valid_wn18rr.txt',\n",
    "    'test': 'https://raw.githubusercontent.com/hvags/effective-octo-eureka/main/wn18rr/sym_test_wn18rr.txt'\n",
    "    }"
   ]
  },
  {
   "cell_type": "code",
   "execution_count": null,
   "id": "f6c96dca",
   "metadata": {},
   "outputs": [],
   "source": [
    "dataset_urls['wn18rr-asym'] = {\n",
    "    'train': 'https://raw.githubusercontent.com/hvags/effective-octo-eureka/main/wn18rr/asym_train_wn18rr.txt',\n",
    "    'validate': 'https://raw.githubusercontent.com/hvags/effective-octo-eureka/main/wn18rr/asym_valid_wn18rr.txt',\n",
    "    'test':'https://raw.githubusercontent.com/hvags/effective-octo-eureka/main/wn18rr/asym_test_wn18rr.txt'\n",
    "    }"
   ]
  },
  {
   "cell_type": "code",
   "execution_count": 77,
   "id": "7dc3f3f7",
   "metadata": {},
   "outputs": [],
   "source": [
    "# fb15k-237 datasets\n",
    "dataset_urls['fb15k-237-full'] = {\n",
    "    'train': 'https://raw.githubusercontent.com/hvags/effective-octo-eureka/main/fb15k-237/train.txt',\n",
    "    'validate': 'https://raw.githubusercontent.com/hvags/effective-octo-eureka/main/fb15k-237/valid.txt',\n",
    "    'test': 'https://raw.githubusercontent.com/hvags/effective-octo-eureka/main/fb15k-237/test.txt'\n",
    "    }\n",
    "\n",
    "dataset_urls['fb15k-237-sym'] = {\n",
    "    'train': 'https://raw.githubusercontent.com/hvags/effective-octo-eureka/main/fb15k-237/sym_train.txt',\n",
    "    'validate': 'https://raw.githubusercontent.com/hvags/effective-octo-eureka/main/fb15k-237/sym_valid.txt',\n",
    "    'test': 'https://raw.githubusercontent.com/hvags/effective-octo-eureka/main/fb15k-237/sym_test.txt'\n",
    "    }\n",
    "\n",
    "dataset_urls['fb15k-237-asym'] = {\n",
    "    'train': 'https://raw.githubusercontent.com/hvags/effective-octo-eureka/main/fb15k-237/asym_train.txt',\n",
    "    'validate': 'https://raw.githubusercontent.com/hvags/effective-octo-eureka/main/fb15k-237/asym_valid.txt',\n",
    "    'test': 'https://raw.githubusercontent.com/hvags/effective-octo-eureka/main/fb15k-237/asym_test.txt'\n",
    "    }"
   ]
  },
  {
   "cell_type": "code",
   "execution_count": 87,
   "id": "e8c56107",
   "metadata": {},
   "outputs": [],
   "source": [
    "models = [\n",
    "#          'TransE',\n",
    "          'TransH',\n",
    "#          'TransD',\n",
    "#          'TransR',\n",
    "#          'RESCAL',\n",
    "#          'ComplEx',\n",
    "#          'RotatE'\n",
    "         ]"
   ]
  },
  {
   "cell_type": "code",
   "execution_count": 88,
   "id": "7f6c09dd",
   "metadata": {},
   "outputs": [
    {
     "name": "stdout",
     "output_type": "stream",
     "text": [
      "Processing: wn18rr-sym\n"
     ]
    },
    {
     "name": "stderr",
     "output_type": "stream",
     "text": [
      "WARNING:pykeen.triples.triples_factory:You're trying to map triples with 60 entities and 0 relations that are not in the training set. These triples will be excluded from the mapping.\n",
      "WARNING:pykeen.triples.triples_factory:In total 48 from 1165 triples were filtered out\n",
      "WARNING:pykeen.triples.triples_factory:You're trying to map triples with 35 entities and 0 relations that are not in the training set. These triples will be excluded from the mapping.\n",
      "WARNING:pykeen.triples.triples_factory:In total 31 from 1172 triples were filtered out\n"
     ]
    },
    {
     "name": "stdout",
     "output_type": "stream",
     "text": [
      "\n",
      "\n"
     ]
    }
   ],
   "source": [
    "import pandas as pd\n",
    "from pykeen.pipeline import pipeline\n",
    "from pykeen.triples import TriplesFactory\n",
    "\n",
    "datasets = dict()\n",
    "\n",
    "for key in dataset_urls.keys():\n",
    "    print(f'Processing: {key}')\n",
    "    \n",
    "    datasets[key] = dict()\n",
    "    \n",
    "    df_train = pd.read_csv(dataset_urls[key]['train'], header=None, sep='\\t', names=['head', 'relation','tail'])\n",
    "    df_validate = pd.read_csv(dataset_urls[key]['validate'], header=None, sep='\\t', names=['head', 'relation','tail'])\n",
    "    df_test = pd.read_csv(dataset_urls[key]['test'], header=None, sep='\\t', names=['head', 'relation','tail'])\n",
    "    \n",
    "    datasets[key]['train'] = TriplesFactory.from_labeled_triples(df_train.astype('str').to_numpy())\n",
    "    entity_mapping = datasets[key]['train'].entity_to_id\n",
    "    relation_mapping = datasets[key]['train'].relation_to_id\n",
    "    \n",
    "    datasets[key]['validate'] = TriplesFactory.from_labeled_triples(df_validate.astype('str').to_numpy(),\n",
    "                                                                    entity_to_id=entity_mapping,\n",
    "                                                                    relation_to_id=relation_mapping\n",
    "                                                                    )\n",
    "    \n",
    "    datasets[key]['test'] = TriplesFactory.from_labeled_triples(df_test.astype('str').to_numpy(),\n",
    "                                                                    entity_to_id=entity_mapping,\n",
    "                                                                    relation_to_id=relation_mapping\n",
    "                                                                    )\n",
    "    print('\\n')"
   ]
  },
  {
   "cell_type": "code",
   "execution_count": 89,
   "id": "e9e7a8b9",
   "metadata": {},
   "outputs": [
    {
     "name": "stderr",
     "output_type": "stream",
     "text": [
      "WARNING:pykeen.pipeline.api:No random seed is specified. Setting to 3823947985.\n"
     ]
    },
    {
     "data": {
      "application/vnd.jupyter.widget-view+json": {
       "model_id": "9ab2a80d4dc54cb494543c20dd718809",
       "version_major": 2,
       "version_minor": 0
      },
      "text/plain": [
       "Training epochs on cuda:   0%|          | 0/100 [00:00<?, ?epoch/s]"
      ]
     },
     "metadata": {},
     "output_type": "display_data"
    },
    {
     "name": "stderr",
     "output_type": "stream",
     "text": [
      "INFO:pykeen.evaluation.evaluator:Starting batch_size search for evaluation now...\n",
      "INFO:pykeen.evaluation.evaluator:Concluded batch_size search with batch_size=64.\n"
     ]
    },
    {
     "data": {
      "application/vnd.jupyter.widget-view+json": {
       "model_id": "79dde8859ad04b12b0c8d6d813c136cd",
       "version_major": 2,
       "version_minor": 0
      },
      "text/plain": [
       "Evaluating on cuda:   0%|          | 0.00/1.14k [00:00<?, ?triple/s]"
      ]
     },
     "metadata": {},
     "output_type": "display_data"
    },
    {
     "name": "stderr",
     "output_type": "stream",
     "text": [
      "INFO:pykeen.evaluation.evaluator:Evaluation took 2.58s seconds\n"
     ]
    }
   ],
   "source": [
    "import requests\n",
    "import json\n",
    "from pykeen.pipeline import pipeline_from_config\n",
    "\n",
    "HPO_URL_BASE = 'https://raw.githubusercontent.com/hvags/effective-octo-eureka/main/hpo_results'\n",
    "HPO_URL_TAIL = 'best_pipeline/pipeline_config.json'\n",
    "\n",
    "results = dict()\n",
    "\n",
    "for dataset_name, dataset_url in dataset_urls.items():    \n",
    "    for model in models:\n",
    "        \n",
    "        url = f'{HPO_URL_BASE}/{dataset_name}/{model}/{HPO_URL_TAIL}'        \n",
    "        response = requests.get(url).text\n",
    "        \n",
    "        if (response.startswith('404')):\n",
    "            print(dataset_name, model, url, response)\n",
    "            continue\n",
    "        \n",
    "        config = json.loads(response)\n",
    "\n",
    "        config['pipeline'].pop('testing')\n",
    "        config['pipeline'].pop('training')\n",
    "        config['pipeline'].pop('validation')        \n",
    "        \n",
    "        if (config['pipeline']['loss'] == 'marginranking'):\n",
    "            if('margin_activation' in config['pipeline']['loss_kwargs']):\n",
    "                config['pipeline']['loss_kwargs'].pop('margin_activation')\n",
    "        \n",
    "        dataset = datasets[dataset_name]\n",
    "        \n",
    "        results[dataset_name, model] = pipeline_from_config(config,\n",
    "                              device='gpu',\n",
    "                              testing=dataset['test'],\n",
    "                              training=dataset['train'],\n",
    "                              validation=dataset['validate'])"
   ]
  },
  {
   "cell_type": "code",
   "execution_count": 35,
   "id": "b1d854f2",
   "metadata": {},
   "outputs": [
    {
     "data": {
      "text/plain": [
       "PipelineResult(random_seed=4183616286, model=TransH(\n",
       "  (loss): MarginRankingLoss(\n",
       "    (margin_activation): ReLU()\n",
       "  )\n",
       "  (regularizer): TransHRegularizer()\n",
       "  (entity_embeddings): Embedding(\n",
       "    (_embeddings): Embedding(40559, 96)\n",
       "  )\n",
       "  (relation_embeddings): Embedding(\n",
       "    (_embeddings): Embedding(11, 96)\n",
       "  )\n",
       "  (normal_vector_embeddings): Embedding(\n",
       "    (_embeddings): Embedding(11, 96)\n",
       "  )\n",
       "), training=TriplesFactory(num_entities=40559, num_relations=11, num_triples=86835, inverse_triples=False), training_loop=<pykeen.training.slcwa.SLCWATrainingLoop object at 0x00000182800C8AF0>, losses=[54.79743130184753, 0.00015346237986022042, 0.00012516252601703378, 7.441305179645918e-05, 6.736971426347847e-05, 6.872640763181901e-05, 6.515155007694095e-05, 6.698185502161474e-05, 9.18062512015352e-05, 9.053287331686054e-05, 0.0001052353556648179, 0.00010482694441230074, 0.00010036756252627468, 0.00012549248017190947, 0.00016363166543344228, 0.0002498997786680418, 0.0002248443989595299, 0.0003030001339365618, 0.00035620493723292245, 0.00031212609553643236, 0.00039224281221526944, 0.0005140364644557225, 0.0005873204056666279, 0.0007672889187194979, 0.0008623650968812692, 0.0009374182599878699, 0.001053035707474304, 0.0011403589131417941, 0.0011737464602324275, 0.001302638563967303, 0.0014815818174121335, 0.0014237109868783313, 0.0018676210521944667, 0.001581030777577409, 0.002135681000893657, 0.002241021206995747, 0.002145476926620289, 0.0022503847847153997, 0.002652228344644764, 0.0028854587792375513, 0.0030661790545427263, 0.0032032202087330297, 0.0035227670717329984, 0.0032617736317137125, 0.0036112206048241153, 0.003701125886998056, 0.003938178043603801, 0.0036839839165202625, 0.0037780742526651563, 0.004370008286756027, 0.004058426729431697, 0.003937210619068657, 0.0043905182426207945, 0.004109337194366639, 0.004161028385079984, 0.004308951519489315, 0.004736071840471751, 0.004105082536777451, 0.004649416396962057, 0.004889789865638415], metric_results=RankBasedMetricResults(arithmetic_mean_rank={'both': {'optimistic': 17476.500341997264, 'realistic': 17476.618844049248, 'pessimistic': 17476.737346101232}, 'tail': {'optimistic': 14778.732558139534, 'realistic': 14778.843365253078, 'pessimistic': 14778.95417236662}, 'head': {'optimistic': 20174.268125854993, 'realistic': 20174.394322845415, 'pessimistic': 20174.52051983584}}, geometric_mean_rank={'both': {'optimistic': 10854.2449558, 'realistic': 10854.35844683799, 'pessimistic': 10854.47192031645}, 'tail': {'optimistic': 8328.176646587419, 'realistic': 8328.279082200484, 'pessimistic': 8328.381496247544}, 'head': {'optimistic': 14146.509921686915, 'realistic': 14146.631750639363, 'pessimistic': 14146.75357054944}}, median_rank={'both': {'optimistic': 15838.5, 'realistic': 15838.75, 'pessimistic': 15839.0}, 'tail': {'optimistic': 11948.5, 'realistic': 11949.0, 'pessimistic': 11949.5}, 'head': {'optimistic': 20002.0, 'realistic': 20002.0, 'pessimistic': 20002.0}}, harmonic_mean_rank={'both': {'optimistic': 1820.765462958454, 'realistic': 1820.7758507271792, 'pessimistic': 1820.7862249582615}, 'tail': {'optimistic': 1276.0683383419594, 'realistic': 1276.0765183665555, 'pessimistic': 1276.0846858832958}, 'head': {'optimistic': 3176.801486337919, 'realistic': 3176.814033549848, 'pessimistic': 3176.8265758869024}}, inverse_arithmetic_mean_rank={'both': {'optimistic': 5.721969389929455e-05, 'realistic': 5.721930591514261e-05, 'pessimistic': 5.7218917936252176e-05}, 'tail': {'optimistic': 6.766480116383458e-05, 'realistic': 6.76642938344638e-05, 'pessimistic': 6.766378651270054e-05}, 'head': {'optimistic': 4.956809306595947e-05, 'realistic': 4.9567783002417246e-05, 'pessimistic': 4.956747294275408e-05}}, inverse_geometric_mean_rank={'both': {'optimistic': 9.212985371825857e-05, 'realistic': 9.212889042662051e-05, 'pessimistic': 9.21279273041637e-05}, 'tail': {'optimistic': 0.00012007430226756337, 'realistic': 0.00012007282538564758, 'pessimistic': 0.00012007134885098172}, 'head': {'optimistic': 7.068881339184429e-05, 'realistic': 7.068820462897853e-05, 'pessimistic': 7.06875959217802e-05}}, inverse_harmonic_mean_rank={'both': {'optimistic': 0.0005492195564689366, 'realistic': 0.00054921642309822, 'pessimistic': 0.0005492132938466861}, 'tail': {'optimistic': 0.0007836570894779314, 'realistic': 0.0007836520660062392, 'pessimistic': 0.0007836470502800587}, 'head': {'optimistic': 0.00031478202345994156, 'realistic': 0.0003147807801902009, 'pessimistic': 0.00031477953741331356}}, inverse_median_rank={'both': {'optimistic': 6.313729204154434e-05, 'realistic': 6.313629547786284e-05, 'pessimistic': 6.313529894564051e-05}, 'tail': {'optimistic': 8.369251370464912e-05, 'realistic': 8.368901163277262e-05, 'pessimistic': 8.368550985396879e-05}, 'head': {'optimistic': 4.999500049995001e-05, 'realistic': 4.999500049995001e-05, 'pessimistic': 4.999500049995001e-05}}, rank_std={'both': {'optimistic': 12513.905748803814, 'realistic': 12513.921502492234, 'pessimistic': 12513.937261426881}, 'tail': {'optimistic': 12099.928287834839, 'realistic': 12099.947340909841, 'pessimistic': 12099.966398946279}, 'head': {'optimistic': 12338.21330573853, 'realistic': 12338.223211641784, 'pessimistic': 12338.23312331454}}, rank_var={'both': {'optimistic': 156597837.08994517, 'realistic': 156598231.3705375, 'pessimistic': 156598625.7829281}, 'tail': {'optimistic': 146408264.5707457, 'realistic': 146408725.6527911, 'pessimistic': 146409186.85562897}, 'head': {'optimistic': 152231507.57790333, 'realistic': 152231752.0202961, 'pessimistic': 152231996.60525608}}, rank_mad={'both': {'optimistic': 10981.0, 'realistic': 10981.0, 'pessimistic': 10981.0}, 'tail': {'optimistic': 9438.5, 'realistic': 9439.0, 'pessimistic': 9439.5}, 'head': {'optimistic': 11046.0, 'realistic': 11046.0, 'pessimistic': 11046.0}}, hits_at_k={'both': {'optimistic': {1: 0.0, 3: 0.0005129958960328317, 5: 0.0006839945280437756, 10: 0.0010259917920656635}, 'realistic': {1: 0.0, 3: 0.0005129958960328317, 5: 0.0006839945280437756, 10: 0.0010259917920656635}, 'pessimistic': {1: 0.0, 3: 0.0005129958960328317, 5: 0.0006839945280437756, 10: 0.0010259917920656635}}, 'tail': {'optimistic': {1: 0.0, 3: 0.0010259917920656635, 5: 0.0010259917920656635, 10: 0.001709986320109439}, 'realistic': {1: 0.0, 3: 0.0010259917920656635, 5: 0.0010259917920656635, 10: 0.001709986320109439}, 'pessimistic': {1: 0.0, 3: 0.0010259917920656635, 5: 0.0010259917920656635, 10: 0.001709986320109439}}, 'head': {'optimistic': {1: 0.0, 3: 0.0, 5: 0.0003419972640218878, 10: 0.0003419972640218878}, 'realistic': {1: 0.0, 3: 0.0, 5: 0.0003419972640218878, 10: 0.0003419972640218878}, 'pessimistic': {1: 0.0, 3: 0.0, 5: 0.0003419972640218878, 10: 0.0003419972640218878}}}, adjusted_arithmetic_mean_rank={'both': {'realistic': 0.8620829939148207}, 'tail': {'realistic': 0.7288459936494268}, 'head': {'realistic': 0.9953791252884908}}, adjusted_arithmetic_mean_rank_index={'both': {'realistic': 0.1379238095619696}, 'tail': {'realistic': 0.2711673794714089}, 'head': {'realistic': 0.004621102710878122}}), train_seconds=271.97150468826294, evaluate_seconds=29.988853931427002, stopper=<pykeen.stoppers.stopper.NopStopper object at 0x00000182800B5580>, metadata={'_stopper_comment': 'While the original config had 100, early stopping will now switch it to 60', '_stopper_kwargs_removed_comment': \"stopper_kwargs config removed after HPO: {'frequency': 10, 'patience': 2, 'relative_delta': 0.01}\", 'best_trial_evaluation': 0.10056960163999362, 'best_trial_number': 0, 'git_hash': 'UNHASHED', 'version': '1.5.0'}, version='1.6.1-dev', git_hash='cbcc3b7c')"
      ]
     },
     "execution_count": 35,
     "metadata": {},
     "output_type": "execute_result"
    }
   ],
   "source": [
    "results[('wn18rr-full', 'TransH')]"
   ]
  },
  {
   "cell_type": "code",
   "execution_count": 90,
   "id": "d28df386",
   "metadata": {},
   "outputs": [
    {
     "name": "stdout",
     "output_type": "stream",
     "text": [
      "wn18rr-sym\n",
      " model     MRR  Hits@1  Hits@10\n",
      "TransH 0.05384     0.0  0.13716\n",
      "\n",
      "\n"
     ]
    }
   ],
   "source": [
    "def results_to_table(results):\n",
    "  \n",
    "    metrics = [('both.realistic.mean_reciprocal_rank', 'MRR'),                  \n",
    "                ('both.realistic.hits@1', 'Hits@1'),                \n",
    "                ('both.realistic.hits@10', 'Hits@10')]         \n",
    "   \n",
    "    \n",
    "    for dataset in dataset_urls.keys():\n",
    "        print(dataset)\n",
    "        table = pd.DataFrame()\n",
    "       \n",
    "        for model_label in models:                            \n",
    "            row = [model_label]\n",
    "            \n",
    "            for metric in metrics:      \n",
    "                if ((dataset, model_label) not in results):\n",
    "                    result = 'NaN'\n",
    "                    row += [result]\n",
    "                else:\n",
    "                    result = results[(dataset, model_label)].get_metric(metric[0])\n",
    "                    row += [round(result,5)]                \n",
    "            table = table.append(pd.DataFrame([row], columns =['model'] + [metric[1] for metric in metrics]))\n",
    "\n",
    "        print(table.to_string(index=False))\n",
    "        print('\\n')\n",
    "\n",
    "\n",
    "results_to_table(results)"
   ]
  }
 ],
 "metadata": {
  "kernelspec": {
   "display_name": "Python 3 (ipykernel)",
   "language": "python",
   "name": "python3"
  },
  "language_info": {
   "codemirror_mode": {
    "name": "ipython",
    "version": 3
   },
   "file_extension": ".py",
   "mimetype": "text/x-python",
   "name": "python",
   "nbconvert_exporter": "python",
   "pygments_lexer": "ipython3",
   "version": "3.9.7"
  }
 },
 "nbformat": 4,
 "nbformat_minor": 5
}
