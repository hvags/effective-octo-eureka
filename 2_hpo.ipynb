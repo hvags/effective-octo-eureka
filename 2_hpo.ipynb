{
 "cells": [
  {
   "cell_type": "markdown",
   "id": "c40b4331",
   "metadata": {
    "id": "95564436-b5de-472d-9d76-8a6a05617be3"
   },
   "source": [
    "# Final project - Hyper parameter optimization"
   ]
  },
  {
   "cell_type": "markdown",
   "id": "bd04c126-6584-418f-a98e-3956f8d8f97b",
   "metadata": {
    "id": "bd04c126-6584-418f-a98e-3956f8d8f97b"
   },
   "source": [
    "## Installing packages (if running on colab)"
   ]
  },
  {
   "cell_type": "markdown",
   "id": "1ebf26d2-6ad5-4b1e-ac81-7b695a276b16",
   "metadata": {
    "id": "1ebf26d2-6ad5-4b1e-ac81-7b695a276b16"
   },
   "source": [
    "**IMPORTANT**: Uncomment and run the cell below and then restart the Runtime (Menu Runtime > Restart Runtime, or with Ctrl + M .), then run it again. If you do not do that, then you will get errors. You only need to run it again if your Google Colab / Kaggle instance is restarted or lost."
   ]
  },
  {
   "cell_type": "code",
   "execution_count": null,
   "id": "92d7412a-4532-4bd6-b285-1a2dbe98ee91",
   "metadata": {
    "colab": {
     "base_uri": "https://localhost:8080/"
    },
    "id": "92d7412a-4532-4bd6-b285-1a2dbe98ee91",
    "outputId": "45034e4d-b9b9-4a20-be77-3f91534c0910"
   },
   "outputs": [],
   "source": [
    "'''\n",
    "! pip install --upgrade scipy\n",
    "! pip install --upgrade pandas\n",
    "! pip install ipywidgets\n",
    "! pip uninstall -y pykeen\n",
    "! pip install git+https://github.com/pykeen/pykeen.git@v1.5.0\n",
    "! python -c \"import pykeen\" || pip install git+https://github.com/pykeen/pykeen.git@v1.5.0\n",
    "from pkg_resources import require\n",
    "require('pykeen')\n",
    "'''"
   ]
  },
  {
   "cell_type": "markdown",
   "id": "zlvyH72mnCQZ",
   "metadata": {
    "id": "zlvyH72mnCQZ"
   },
   "source": [
    "After you install the packages above, you can just run from this cell onwards (Ctrl + F10 when this is selected)"
   ]
  },
  {
   "cell_type": "markdown",
   "id": "f193059d",
   "metadata": {},
   "source": [
    "If SAVE_TO_DRIVE is set to True, the following cell enables storing of hpo results to your google drive account. Authentication required, and only works on colab instances (as far as we know)"
   ]
  },
  {
   "cell_type": "code",
   "execution_count": 1,
   "id": "c0c75287",
   "metadata": {},
   "outputs": [],
   "source": [
    "SAVE_TO_DRIVE = False\n",
    "if (SAVE_TO_DRIVE):\n",
    "    from google.colab import drive\n",
    "    drive.mount('/content/drive')\n"
   ]
  },
  {
   "cell_type": "markdown",
   "id": "22aa8990-f477-4544-8ea3-28eca654036c",
   "metadata": {
    "id": "22aa8990-f477-4544-8ea3-28eca654036c"
   },
   "source": [
    "## Imports and parameters"
   ]
  },
  {
   "cell_type": "code",
   "execution_count": 2,
   "id": "2d0e08e0-21fa-4c4e-94e7-65b113433dd1",
   "metadata": {
    "id": "2d0e08e0-21fa-4c4e-94e7-65b113433dd1"
   },
   "outputs": [],
   "source": [
    "from pykeen.pipeline import pipeline\n",
    "from pykeen.triples import TriplesFactory\n",
    "import pandas as pd\n",
    "import torch\n",
    "import gc\n",
    "from pykeen.hpo import hpo_pipeline"
   ]
  },
  {
   "cell_type": "markdown",
   "id": "6859571b-025a-45e7-9c46-e9794f45d03f",
   "metadata": {
    "id": "6859571b-025a-45e7-9c46-e9794f45d03f"
   },
   "source": [
    "How many epochs to use on training"
   ]
  },
  {
   "cell_type": "code",
   "execution_count": 3,
   "id": "78042b10-fb4b-4b38-90a7-09b893995dc0",
   "metadata": {
    "id": "78042b10-fb4b-4b38-90a7-09b893995dc0"
   },
   "outputs": [],
   "source": [
    "N_EPOCHS = 100"
   ]
  },
  {
   "cell_type": "markdown",
   "id": "r-GxRe-eSiYB",
   "metadata": {
    "id": "r-GxRe-eSiYB"
   },
   "source": [
    "How many seconds to use for each hyperparameter optimization trial. The optimizer will run as many trials as possible and stop after finishing the one that was runningwhen time ran out."
   ]
  },
  {
   "cell_type": "code",
   "execution_count": 4,
   "id": "niWdghjsSnkR",
   "metadata": {
    "id": "niWdghjsSnkR"
   },
   "outputs": [],
   "source": [
    "TIME_PER_TRIAL = 900"
   ]
  },
  {
   "cell_type": "markdown",
   "id": "27cedb8c-a8d8-45fa-8a5f-a4a9103f6d54",
   "metadata": {
    "id": "27cedb8c-a8d8-45fa-8a5f-a4a9103f6d54"
   },
   "source": [
    "Always run on GPU"
   ]
  },
  {
   "cell_type": "code",
   "execution_count": 5,
   "id": "e0838dfb-8977-4557-a47a-5fff52a72e63",
   "metadata": {
    "id": "e0838dfb-8977-4557-a47a-5fff52a72e63"
   },
   "outputs": [],
   "source": [
    "CPU_DEV = 'gpu'"
   ]
  },
  {
   "cell_type": "code",
   "execution_count": 6,
   "id": "82df7457",
   "metadata": {},
   "outputs": [],
   "source": [
    "\n",
    "# Use this value for BASE_DATA_URL if working with local data\n",
    "BASE_DATA_URL = './data'\n",
    "\n",
    "# Use this value for BASE_DATA_URL if working with data from the github repo\n",
    "#BASE_DATA_URL = 'https://raw.githubusercontent.com/hvags/effective-octo-eureka/main/data'"
   ]
  },
  {
   "cell_type": "markdown",
   "id": "67105167-2968-4965-bb4f-da544251a0e8",
   "metadata": {
    "id": "67105167-2968-4965-bb4f-da544251a0e8"
   },
   "source": [
    "## Retrieving data"
   ]
  },
  {
   "cell_type": "markdown",
   "id": "feb71192-0de3-4814-90dd-dbc927e3bb52",
   "metadata": {
    "id": "feb71192-0de3-4814-90dd-dbc927e3bb52"
   },
   "source": [
    "The data sets used were already pre stratified into training, testing and validation sets. Using the methods described in the data manipulation notebook they were split into symmetrical and asymmetrical subsets. The results were stored in a github repository for easy access in the further work.\n",
    "\n",
    "To retrieve the data we first populate a dictionary with the URL of the sets."
   ]
  },
  {
   "cell_type": "code",
   "execution_count": 7,
   "id": "caac382f",
   "metadata": {},
   "outputs": [],
   "source": [
    "dataset_urls = dict()"
   ]
  },
  {
   "cell_type": "markdown",
   "id": "53bac296",
   "metadata": {},
   "source": [
    "## wn18rr datasets"
   ]
  },
  {
   "cell_type": "code",
   "execution_count": 21,
   "id": "532af1a6",
   "metadata": {
    "id": "532af1a6"
   },
   "outputs": [],
   "source": [
    "dataset_urls['wn18rr-full'] = {\n",
    "    'train': '/wn18rr/train_wn18rr.txt',\n",
    "    'validate': '/wn18rr/valid_wn18rr.txt',\n",
    "    'test': '/wn18rr/test_wn18rr.txt'\n",
    "    }"
   ]
  },
  {
   "cell_type": "code",
   "execution_count": 22,
   "id": "9da71dae",
   "metadata": {},
   "outputs": [],
   "source": [
    "dataset_urls['wn18rr-sym'] = {\n",
    "    'train': '/wn18rr/sym_train_wn18rr.txt',\n",
    "    'validate': '/wn18rr/sym_valid_wn18rr.txt',\n",
    "    'test': '/wn18rr/sym_test_wn18rr.txt'\n",
    "    }\n"
   ]
  },
  {
   "cell_type": "code",
   "execution_count": 23,
   "id": "73128fbd",
   "metadata": {},
   "outputs": [],
   "source": [
    "dataset_urls['wn18rr-asym'] = {\n",
    "    'train': '/wn18rr/asym_train_wn18rr.txt',\n",
    "    'validate': '/wn18rr/asym_valid_wn18rr.txt',\n",
    "    'test': '/wn18rr/asym_test_wn18rr.txt'\n",
    "    }"
   ]
  },
  {
   "cell_type": "markdown",
   "id": "cf85bf59",
   "metadata": {},
   "source": [
    "## fb15k-237 datasets"
   ]
  },
  {
   "cell_type": "code",
   "execution_count": 24,
   "id": "x6HEzrD9Y3Py",
   "metadata": {
    "id": "x6HEzrD9Y3Py"
   },
   "outputs": [],
   "source": [
    "dataset_urls['fb15k-237-full'] = {\n",
    "    'train':  '/fb15k-237/train_fb15k-237.txt',\n",
    "    'validate': '/fb15k-237/valid_fb15k-237.txt',\n",
    "    'test': '/fb15k-237/test_fb15k-237.txt'\n",
    "    }"
   ]
  },
  {
   "cell_type": "code",
   "execution_count": 25,
   "id": "df37e284",
   "metadata": {},
   "outputs": [],
   "source": [
    "dataset_urls['fb15k-237-sym'] = {\n",
    "    'train': '/fb15k-237/sym_train_fb15k-237.txt',\n",
    "    'validate': '/fb15k-237/sym_valid_fb15k-237.txt',\n",
    "    'test': '/fb15k-237/sym_test_fb15k-237.txt'\n",
    "    }"
   ]
  },
  {
   "cell_type": "code",
   "execution_count": 26,
   "id": "22ede1f0",
   "metadata": {},
   "outputs": [],
   "source": [
    "dataset_urls['fb15k-237-asym'] = {\n",
    "    'train': '/fb15k-237/asym_train_fb15k-237.txt',\n",
    "    'validate': '/fb15k-237/asym_valid_fb15k-237.txt',\n",
    "    'test': '/fb15k-237/asym_test_fb15k-237.txt'\n",
    "    }"
   ]
  },
  {
   "cell_type": "markdown",
   "id": "c356e4f5",
   "metadata": {
    "id": "c356e4f5"
   },
   "source": [
    "## Read data from files and create TriplesFactories"
   ]
  },
  {
   "cell_type": "code",
   "execution_count": 27,
   "id": "7fe2022a",
   "metadata": {
    "colab": {
     "base_uri": "https://localhost:8080/"
    },
    "id": "7fe2022a",
    "outputId": "0ca75080-286e-4018-f247-353595bcf710"
   },
   "outputs": [
    {
     "name": "stdout",
     "output_type": "stream",
     "text": [
      "Processing: fb15k-237-full\n"
     ]
    },
    {
     "name": "stderr",
     "output_type": "stream",
     "text": [
      "WARNING:pykeen.triples.triples_factory:You're trying to map triples with 9 entities and 0 relations that are not in the training set. These triples will be excluded from the mapping.\n",
      "WARNING:pykeen.triples.triples_factory:In total 9 from 17535 triples were filtered out\n",
      "WARNING:pykeen.triples.triples_factory:You're trying to map triples with 30 entities and 0 relations that are not in the training set. These triples will be excluded from the mapping.\n",
      "WARNING:pykeen.triples.triples_factory:In total 28 from 20466 triples were filtered out\n"
     ]
    },
    {
     "name": "stdout",
     "output_type": "stream",
     "text": [
      "\n",
      "\n",
      "Processing: fb15k-237-sym\n"
     ]
    },
    {
     "name": "stderr",
     "output_type": "stream",
     "text": [
      "WARNING:pykeen.triples.triples_factory:You're trying to map triples with 192 entities and 0 relations that are not in the training set. These triples will be excluded from the mapping.\n",
      "WARNING:pykeen.triples.triples_factory:In total 110 from 524 triples were filtered out\n",
      "WARNING:pykeen.triples.triples_factory:You're trying to map triples with 174 entities and 0 relations that are not in the training set. These triples will be excluded from the mapping.\n",
      "WARNING:pykeen.triples.triples_factory:In total 98 from 610 triples were filtered out\n"
     ]
    },
    {
     "name": "stdout",
     "output_type": "stream",
     "text": [
      "\n",
      "\n",
      "Processing: fb15k-237-asym\n"
     ]
    },
    {
     "name": "stderr",
     "output_type": "stream",
     "text": [
      "WARNING:pykeen.triples.triples_factory:You're trying to map triples with 11 entities and 0 relations that are not in the training set. These triples will be excluded from the mapping.\n",
      "WARNING:pykeen.triples.triples_factory:In total 11 from 17011 triples were filtered out\n",
      "WARNING:pykeen.triples.triples_factory:You're trying to map triples with 30 entities and 0 relations that are not in the training set. These triples will be excluded from the mapping.\n",
      "WARNING:pykeen.triples.triples_factory:In total 28 from 19856 triples were filtered out\n"
     ]
    },
    {
     "name": "stdout",
     "output_type": "stream",
     "text": [
      "\n",
      "\n",
      "Processing: wn18rr-full\n"
     ]
    },
    {
     "name": "stderr",
     "output_type": "stream",
     "text": [
      "WARNING:pykeen.triples.triples_factory:You're trying to map triples with 211 entities and 0 relations that are not in the training set. These triples will be excluded from the mapping.\n",
      "WARNING:pykeen.triples.triples_factory:In total 210 from 3034 triples were filtered out\n",
      "WARNING:pykeen.triples.triples_factory:You're trying to map triples with 212 entities and 0 relations that are not in the training set. These triples will be excluded from the mapping.\n",
      "WARNING:pykeen.triples.triples_factory:In total 210 from 3134 triples were filtered out\n"
     ]
    },
    {
     "name": "stdout",
     "output_type": "stream",
     "text": [
      "\n",
      "\n",
      "Processing: wn18rr-sym\n"
     ]
    },
    {
     "name": "stderr",
     "output_type": "stream",
     "text": [
      "WARNING:pykeen.triples.triples_factory:You're trying to map triples with 60 entities and 0 relations that are not in the training set. These triples will be excluded from the mapping.\n",
      "WARNING:pykeen.triples.triples_factory:In total 48 from 1165 triples were filtered out\n",
      "WARNING:pykeen.triples.triples_factory:You're trying to map triples with 35 entities and 0 relations that are not in the training set. These triples will be excluded from the mapping.\n",
      "WARNING:pykeen.triples.triples_factory:In total 31 from 1172 triples were filtered out\n"
     ]
    },
    {
     "name": "stdout",
     "output_type": "stream",
     "text": [
      "\n",
      "\n",
      "Processing: wn18rr-asym\n"
     ]
    },
    {
     "name": "stderr",
     "output_type": "stream",
     "text": [
      "WARNING:pykeen.triples.triples_factory:You're trying to map triples with 527 entities and 0 relations that are not in the training set. These triples will be excluded from the mapping.\n",
      "WARNING:pykeen.triples.triples_factory:In total 518 from 1869 triples were filtered out\n",
      "WARNING:pykeen.triples.triples_factory:You're trying to map triples with 555 entities and 0 relations that are not in the training set. These triples will be excluded from the mapping.\n",
      "WARNING:pykeen.triples.triples_factory:In total 546 from 1962 triples were filtered out\n"
     ]
    },
    {
     "name": "stdout",
     "output_type": "stream",
     "text": [
      "\n",
      "\n"
     ]
    }
   ],
   "source": [
    "datasets = dict()\n",
    "\n",
    "for key in dataset_urls.keys():\n",
    "    print(f'Processing: {key}')\n",
    "    \n",
    "    datasets[key] = dict()\n",
    "    \n",
    "    df_train = pd.read_csv(BASE_DATA_URL + dataset_urls[key]['train'], header=None, sep='\\t', names=['head', 'relation','tail'])\n",
    "    df_validate = pd.read_csv(BASE_DATA_URL + dataset_urls[key]['validate'], header=None, sep='\\t', names=['head', 'relation','tail'])\n",
    "    df_test = pd.read_csv(BASE_DATA_URL + dataset_urls[key]['test'], header=None, sep='\\t', names=['head', 'relation','tail'])\n",
    "    \n",
    "    datasets[key]['train'] = TriplesFactory.from_labeled_triples(df_train.astype('str').to_numpy())\n",
    "    entity_mapping = datasets[key]['train'].entity_to_id\n",
    "    relation_mapping = datasets[key]['train'].relation_to_id\n",
    "    \n",
    "    datasets[key]['validate'] = TriplesFactory.from_labeled_triples(df_validate.astype('str').to_numpy(),\n",
    "                                                                    entity_to_id=entity_mapping,\n",
    "                                                                    relation_to_id=relation_mapping\n",
    "                                                                    )\n",
    "    \n",
    "    datasets[key]['test'] = TriplesFactory.from_labeled_triples(df_test.astype('str').to_numpy(),\n",
    "                                                                    entity_to_id=entity_mapping,\n",
    "                                                                    relation_to_id=relation_mapping\n",
    "                                                                    )\n",
    "    print('\\n')"
   ]
  },
  {
   "cell_type": "markdown",
   "id": "6f04a673-f79c-42fd-9df9-2c2a34c2c5ea",
   "metadata": {
    "id": "6f04a673-f79c-42fd-9df9-2c2a34c2c5ea"
   },
   "source": [
    "## Models"
   ]
  },
  {
   "cell_type": "markdown",
   "id": "933ca0c9-396d-4849-8054-f3bcf5ee2151",
   "metadata": {
    "id": "933ca0c9-396d-4849-8054-f3bcf5ee2151"
   },
   "source": [
    "#### Defining models and their parameters\n",
    "If doing a partial run, comment out models that should not be included"
   ]
  },
  {
   "cell_type": "code",
   "execution_count": 18,
   "id": "204d2f03-177f-4c36-ba0f-28c1ea7d007a",
   "metadata": {
    "id": "204d2f03-177f-4c36-ba0f-28c1ea7d007a"
   },
   "outputs": [],
   "source": [
    "models = [\n",
    "          #('TransE', dict(scoring_fct_norm=2)),\n",
    "          #('TransH', dict()),\n",
    "          #('TransD', dict()),\n",
    "          #('TransR', dict()),\n",
    "          ('RESCAL', dict()),\n",
    "          ('ComplEx', dict()),\n",
    "          #('RotatE', dict())\n",
    "         ]\n",
    "\n"
   ]
  },
  {
   "cell_type": "markdown",
   "id": "rL9cGetPMPCf",
   "metadata": {
    "id": "rL9cGetPMPCf"
   },
   "source": [
    "Define parameters that are specific to a combination of dataset and model."
   ]
  },
  {
   "cell_type": "code",
   "execution_count": 28,
   "id": "FlZRIRaNMOgs",
   "metadata": {
    "id": "FlZRIRaNMOgs"
   },
   "outputs": [],
   "source": [
    "class md_param:\n",
    "    def __init__(self, loss, training_loop):\n",
    "        self.loss = loss\n",
    "        self.training_loop = training_loop        \n",
    "\n",
    "\n",
    "model_dataset_param = {('TransE',  'wn18rr'):     md_param('BCEWithLogitsLoss', 'lcwa'),\n",
    "                       ('TransH',  'wn18rr'):     md_param('MarginRankingLoss', 'slcwa'),\n",
    "                       ('TransD',  'wn18rr'):     md_param('MarginRankingLoss', 'slcwa'),\n",
    "                       ('TransR',  'wn18rr'):     md_param('MarginRankingLoss', 'slcwa'),\n",
    "                       ('RESCAL',  'wn18rr'):     md_param('MarginRankingLoss', 'slcwa'),\n",
    "                       #('RESCAL',  'wn18rr'):     md_param('CrossEntropyLoss', 'lcwa'),                       \n",
    "                       ('ComplEx', 'wn18rr'):     md_param('MarginRankingLoss', 'slcwa'),\n",
    "                       #('ComplEx', 'wn18rr'):     md_param('CrossEntropyLoss', 'lcwa'),\n",
    "                       ('RotatE',  'wn18rr'):     md_param('BCEWithLogitsLoss', 'lcwa'),\n",
    "\n",
    "                       ('TransE',  'fb15k-237'):  md_param('MarginRankingLoss', 'slcwa'),\n",
    "                       ('TransH',  'fb15k-237'):  md_param('MarginRankingLoss', 'slcwa'),\n",
    "                       ('TransD',  'fb15k-237'):  md_param('MarginRankingLoss', 'slcwa'),\n",
    "                       ('TransR',  'fb15k-237'):  md_param('CrossEntropyLoss', 'lcwa'),                       \n",
    "                       ('RESCAL',  'fb15k-237'):  md_param('MarginRankingLoss', 'slcwa'), \n",
    "                       #('RESCAL',  'fb15k-237'):  md_param('CrossEntropyLoss', 'lcwa'), \n",
    "                       ('ComplEx', 'fb15k-237'):  md_param('MarginRankingLoss', 'slcwa'),\n",
    "                       #('ComplEx', 'fb15k-237'):  md_param('CrossEntropyLoss', 'lcwa'),\n",
    "                       ('RotatE',  'fb15k-237'):  md_param('NSSALoss', 'lcwa'),\n",
    "                      }"
   ]
  },
  {
   "cell_type": "code",
   "execution_count": 29,
   "id": "5TmfrEU8Dqf7",
   "metadata": {
    "id": "5TmfrEU8Dqf7"
   },
   "outputs": [],
   "source": [
    "def run_hpo_pipeline(dataset_name, dataset, model):\n",
    "  model_name = model[0]\n",
    "  model_params = model[1]\n",
    "  dataset_base = str.join('-',str.split(dataset_name, '-')[:-1])\n",
    "  print(f\"Dataset: {dataset_name}, Model: {model_name}\")\n",
    "  result = hpo_pipeline(  \n",
    "    n_trials=10,\n",
    "    #timeout=TIME_PER_TRIAL,\n",
    "    training=dataset['train'],\n",
    "    testing=dataset['test'],\n",
    "    validation=dataset['validate'],\n",
    "    model=model_name,\n",
    "    model_kwargs=model_params,\n",
    "    # set the parameters specific to this combination of dataset and model\n",
    "    loss=model_dataset_param[model_name, dataset_base].loss,\n",
    "    training_loop=model_dataset_param[model_name, dataset_base].training_loop,\n",
    "    training_kwargs=dict(num_epochs=N_EPOCHS,\n",
    "                         use_tqdm_batch=False),\n",
    "    training_kwargs_ranges=dict(\n",
    "                            batch_size=dict(type=int, low=256, high=1024, q=256),                    \n",
    "                            ),\n",
    "    device=CPU_DEV,\n",
    "    metric='MEAN_RECIPROCAL_RANK',\n",
    "    direction='maximize',\n",
    "    stopper='early',\n",
    "    stopper_kwargs=dict(frequency=10, patience=2, relative_delta=0.01),\n",
    "    model_kwargs_ranges=dict(\n",
    "                        embedding_dim=dict(type=int, low=32, high=400, q=64)\n",
    "                        )\n",
    "    ) \n",
    "\n",
    "  return(result)\n"
   ]
  },
  {
   "cell_type": "code",
   "execution_count": null,
   "id": "5b382dcd",
   "metadata": {
    "colab": {
     "base_uri": "https://localhost:8080/",
     "height": 1000,
     "referenced_widgets": [
      "4d67abbcba2644dd848a4dc59d440e10",
      "8248daea375847e4ae88814476a1b9a8",
      "9e465cc59c484e3f9c27e49eacd467ac",
      "567c948e45954066a4aa7a1a89098a42",
      "de412ff7cc664d7980f1b3e6599ccb29",
      "a266d7e9dab7475d9963e58b59618cf3",
      "d3650082397d47f5990c719da58ac988",
      "e439e21205ad402fb0b1cf03117049f8",
      "e7b0b0ee7807451f9bc34772b87d6dfe",
      "5c3e0eeabb28403b9d785f069fbff219",
      "49a44d4eeabe40ffb2f45d393a1ab44f",
      "953896fd4f474038943e2eb793cb381e",
      "a1d72432d1d74130a8245a4cbd7b3a34",
      "c5682eabe1ac4c0a98e57004e7d5e409",
      "67c18d106aaf4ae7baa9b230ae3fdd02",
      "027c176eb68c4f2dac2b2f3217e318ce",
      "830b475f509843afbdd708da9ea0cfe7",
      "1a1d8025f0a744988f99e393f5eb0e9d",
      "69379bacf88a442cb9c84a5a96879570",
      "2ed88daadce14e20ba6c448f7d938e76",
      "d9c7bc2a441b420e9a960d001f465b16",
      "bb564f5ffe4e40baac80b021a03c6c88",
      "bcf151eab4214bdf84dfcdfb4af91cb9",
      "bdf16783cbce4e548068fd46349baef5",
      "de343a9d40ea48baa0dd128601575eaa",
      "90a573216fd44732b9eb9cacf9268236",
      "b4b7a8209c2045b3acbd56f921d3d7c9",
      "186964fcc07e4d9fbbcad9095cff6ae6",
      "80668726066d4720b512a185de93ba41"
     ]
    },
    "id": "5b382dcd",
    "outputId": "510305c3-716c-43e4-9e86-4e95e86f815d",
    "scrolled": false
   },
   "outputs": [
    {
     "name": "stderr",
     "output_type": "stream",
     "text": [
      "\u001b[32m[I 2021-11-10 23:28:05,770]\u001b[0m A new study created in memory with name: no-name-cc451299-a6be-4a6f-8c4d-71a84fffe264\u001b[0m\n",
      "INFO:pykeen.hpo.hpo:Using model: <class 'pykeen.models.unimodal.complex.ComplEx'>\n",
      "INFO:pykeen.hpo.hpo:Using loss: <class 'pykeen.losses.MarginRankingLoss'>\n",
      "INFO:pykeen.hpo.hpo:Using regularizer: <class 'pykeen.regularizers.LpRegularizer'>\n",
      "INFO:pykeen.hpo.hpo:Using optimizer: <class 'torch.optim.adam.Adam'>\n",
      "INFO:pykeen.hpo.hpo:Using training loop: <class 'pykeen.training.slcwa.SLCWATrainingLoop'>\n",
      "INFO:pykeen.hpo.hpo:Using negative sampler: <class 'pykeen.sampling.basic_negative_sampler.BasicNegativeSampler'>\n",
      "INFO:pykeen.hpo.hpo:Using evaluator: <class 'pykeen.evaluation.rank_based_evaluator.RankBasedEvaluator'>\n",
      "INFO:pykeen.hpo.hpo:Attempting to maximize MEAN_RECIPROCAL_RANK\n",
      "INFO:pykeen.hpo.hpo:Filter validation triples when testing: True\n",
      "C:\\Appl\\Anaconda3\\envs\\cuda\\lib\\site-packages\\optuna\\distributions.py:560: UserWarning: The distribution is specified by [32, 400] and step=64, but the range is not divisible by `step`. It will be replaced by [32, 352].\n",
      "  warnings.warn(\n",
      "WARNING:pykeen.pipeline.api:No random seed is specified. Setting to 2830670155.\n"
     ]
    },
    {
     "name": "stdout",
     "output_type": "stream",
     "text": [
      "fb15k-237-full\n",
      "Dataset: fb15k-237-full, Model: ComplEx\n"
     ]
    },
    {
     "data": {
      "application/vnd.jupyter.widget-view+json": {
       "model_id": "d8df7d88f2464b099758b15c22dee03d",
       "version_major": 2,
       "version_minor": 0
      },
      "text/plain": [
       "Training epochs on cuda:   0%|          | 0/100 [00:00<?, ?epoch/s]"
      ]
     },
     "metadata": {},
     "output_type": "display_data"
    },
    {
     "name": "stderr",
     "output_type": "stream",
     "text": [
      "INFO:pykeen.evaluation.evaluator:Starting batch_size search for evaluation now...\n",
      "INFO:pykeen.evaluation.evaluator:Concluded batch_size search with batch_size=256.\n",
      "INFO:pykeen.evaluation.evaluator:Evaluation took 56.54s seconds\n",
      "INFO:pykeen.training.training_loop:=> Saved checkpoint after having finished epoch 10.\n",
      "INFO:pykeen.evaluation.evaluator:Evaluation took 55.54s seconds\n",
      "INFO:pykeen.evaluation.evaluator:Evaluation took 55.61s seconds\n",
      "INFO:pykeen.stoppers.early_stopping:Stopping early after 3 evaluations at epoch 30. The best result hits_at_k=0.009956635855300697 occurred at epoch 10.\n",
      "INFO:pykeen.training.training_loop:=> loading checkpoint 'C:\\Users\\hvags\\AppData\\Local\\Temp\\tmpkvdk5xf2'\n",
      "INFO:pykeen.training.training_loop:=> loaded checkpoint 'C:\\Users\\hvags\\AppData\\Local\\Temp\\tmpkvdk5xf2' stopped after having finished epoch 10\n"
     ]
    },
    {
     "data": {
      "application/vnd.jupyter.widget-view+json": {
       "model_id": "4e6cea9497674c678825c0b58e82ea15",
       "version_major": 2,
       "version_minor": 0
      },
      "text/plain": [
       "Evaluating on cuda:   0%|          | 0.00/17.5k [00:00<?, ?triple/s]"
      ]
     },
     "metadata": {},
     "output_type": "display_data"
    },
    {
     "name": "stderr",
     "output_type": "stream",
     "text": [
      "INFO:pykeen.evaluation.evaluator:Evaluation took 55.73s seconds\n",
      "\u001b[32m[I 2021-11-10 23:39:45,504]\u001b[0m Trial 0 finished with value: 0.006914410730857898 and parameters: {'model.embedding_dim': 32, 'loss.margin': 3, 'loss.margin_activation': 'softplus', 'regularizer.weight': 0.25621898385679664, 'optimizer.lr': 0.09976389124009699, 'negative_sampler.num_negs_per_pos': 25, 'training.batch_size': 256}. Best is trial 0 with value: 0.006914410730857898.\u001b[0m\n",
      "C:\\Appl\\Anaconda3\\envs\\cuda\\lib\\site-packages\\optuna\\distributions.py:560: UserWarning: The distribution is specified by [32, 400] and step=64, but the range is not divisible by `step`. It will be replaced by [32, 352].\n",
      "  warnings.warn(\n",
      "WARNING:pykeen.pipeline.api:No random seed is specified. Setting to 669071417.\n",
      "INFO:pykeen.training.training_loop:Starting sub_batch_size search for training now...\n",
      "INFO:pykeen.training.training_loop:Concluded search with sub_batch_size 512.\n"
     ]
    },
    {
     "data": {
      "application/vnd.jupyter.widget-view+json": {
       "model_id": "d42518e45a2344dc977e19be1680fb44",
       "version_major": 2,
       "version_minor": 0
      },
      "text/plain": [
       "Training epochs on cuda:   0%|          | 0/100 [00:00<?, ?epoch/s]"
      ]
     },
     "metadata": {},
     "output_type": "display_data"
    },
    {
     "name": "stderr",
     "output_type": "stream",
     "text": [
      "INFO:pykeen.evaluation.evaluator:Starting batch_size search for evaluation now...\n",
      "INFO:pykeen.evaluation.evaluator:Concluded batch_size search with batch_size=64.\n",
      "INFO:pykeen.evaluation.evaluator:Evaluation took 154.82s seconds\n",
      "INFO:pykeen.training.training_loop:=> Saved checkpoint after having finished epoch 10.\n",
      "INFO:pykeen.evaluation.evaluator:Evaluation took 154.97s seconds\n",
      "INFO:pykeen.evaluation.evaluator:Evaluation took 154.98s seconds\n",
      "INFO:pykeen.stoppers.early_stopping:Stopping early after 3 evaluations at epoch 30. The best result hits_at_k=0.0007132260641332877 occurred at epoch 10.\n",
      "INFO:pykeen.training.training_loop:=> loading checkpoint 'C:\\Users\\hvags\\AppData\\Local\\Temp\\tmpfohrx129'\n",
      "INFO:pykeen.training.training_loop:=> loaded checkpoint 'C:\\Users\\hvags\\AppData\\Local\\Temp\\tmpfohrx129' stopped after having finished epoch 10\n"
     ]
    },
    {
     "data": {
      "application/vnd.jupyter.widget-view+json": {
       "model_id": "d7373b2469824c57bf6e4f952e7f924f",
       "version_major": 2,
       "version_minor": 0
      },
      "text/plain": [
       "Evaluating on cuda:   0%|          | 0.00/17.5k [00:00<?, ?triple/s]"
      ]
     },
     "metadata": {},
     "output_type": "display_data"
    },
    {
     "name": "stderr",
     "output_type": "stream",
     "text": [
      "INFO:pykeen.evaluation.evaluator:Evaluation took 155.30s seconds\n",
      "\u001b[32m[I 2021-11-11 00:25:54,549]\u001b[0m Trial 1 finished with value: 0.0006609096492375463 and parameters: {'model.embedding_dim': 160, 'loss.margin': 2, 'loss.margin_activation': 'softplus', 'regularizer.weight': 0.9693025549367914, 'optimizer.lr': 0.028892877867846355, 'negative_sampler.num_negs_per_pos': 89, 'training.batch_size': 1024}. Best is trial 0 with value: 0.006914410730857898.\u001b[0m\n",
      "C:\\Appl\\Anaconda3\\envs\\cuda\\lib\\site-packages\\optuna\\distributions.py:560: UserWarning: The distribution is specified by [32, 400] and step=64, but the range is not divisible by `step`. It will be replaced by [32, 352].\n",
      "  warnings.warn(\n",
      "WARNING:pykeen.pipeline.api:No random seed is specified. Setting to 2718109966.\n"
     ]
    },
    {
     "data": {
      "application/vnd.jupyter.widget-view+json": {
       "model_id": "66651e0beb2e4a80ba34befabfe51cf2",
       "version_major": 2,
       "version_minor": 0
      },
      "text/plain": [
       "Training epochs on cuda:   0%|          | 0/100 [00:00<?, ?epoch/s]"
      ]
     },
     "metadata": {},
     "output_type": "display_data"
    },
    {
     "name": "stderr",
     "output_type": "stream",
     "text": [
      "INFO:pykeen.evaluation.evaluator:Starting batch_size search for evaluation now...\n",
      "INFO:pykeen.evaluation.evaluator:Concluded batch_size search with batch_size=128.\n",
      "INFO:pykeen.evaluation.evaluator:Evaluation took 105.97s seconds\n",
      "INFO:pykeen.training.training_loop:=> Saved checkpoint after having finished epoch 10.\n",
      "INFO:pykeen.evaluation.evaluator:Evaluation took 105.38s seconds\n",
      "INFO:pykeen.evaluation.evaluator:Evaluation took 106.13s seconds\n",
      "INFO:pykeen.stoppers.early_stopping:Stopping early after 3 evaluations at epoch 30. The best result hits_at_k=0.12136254707292023 occurred at epoch 10.\n",
      "INFO:pykeen.training.training_loop:=> loading checkpoint 'C:\\Users\\hvags\\AppData\\Local\\Temp\\tmpb5mggibr'\n",
      "INFO:pykeen.training.training_loop:=> loaded checkpoint 'C:\\Users\\hvags\\AppData\\Local\\Temp\\tmpb5mggibr' stopped after having finished epoch 10\n"
     ]
    },
    {
     "data": {
      "application/vnd.jupyter.widget-view+json": {
       "model_id": "43d72a2d2d6b4301b671acef3f02620e",
       "version_major": 2,
       "version_minor": 0
      },
      "text/plain": [
       "Evaluating on cuda:   0%|          | 0.00/17.5k [00:00<?, ?triple/s]"
      ]
     },
     "metadata": {},
     "output_type": "display_data"
    },
    {
     "name": "stderr",
     "output_type": "stream",
     "text": [
      "INFO:pykeen.evaluation.evaluator:Evaluation took 106.20s seconds\n",
      "\u001b[32m[I 2021-11-11 00:35:52,697]\u001b[0m Trial 2 finished with value: 0.058491684417425006 and parameters: {'model.embedding_dim': 96, 'loss.margin': 2, 'loss.margin_activation': 'softplus', 'regularizer.weight': 0.13001271539238388, 'optimizer.lr': 0.01968300304367825, 'negative_sampler.num_negs_per_pos': 3, 'training.batch_size': 1024}. Best is trial 2 with value: 0.058491684417425006.\u001b[0m\n",
      "C:\\Appl\\Anaconda3\\envs\\cuda\\lib\\site-packages\\optuna\\distributions.py:560: UserWarning: The distribution is specified by [32, 400] and step=64, but the range is not divisible by `step`. It will be replaced by [32, 352].\n",
      "  warnings.warn(\n",
      "WARNING:pykeen.pipeline.api:No random seed is specified. Setting to 2321494158.\n"
     ]
    },
    {
     "data": {
      "application/vnd.jupyter.widget-view+json": {
       "model_id": "ccea82bacdb94ce9a90b7c6d925cabc4",
       "version_major": 2,
       "version_minor": 0
      },
      "text/plain": [
       "Training epochs on cuda:   0%|          | 0/100 [00:00<?, ?epoch/s]"
      ]
     },
     "metadata": {},
     "output_type": "display_data"
    },
    {
     "name": "stderr",
     "output_type": "stream",
     "text": [
      "INFO:pykeen.evaluation.evaluator:Starting batch_size search for evaluation now...\n",
      "INFO:pykeen.evaluation.evaluator:Concluded batch_size search with batch_size=32.\n",
      "INFO:pykeen.evaluation.evaluator:Evaluation took 257.06s seconds\n",
      "INFO:pykeen.training.training_loop:=> Saved checkpoint after having finished epoch 10.\n",
      "INFO:pykeen.evaluation.evaluator:Evaluation took 257.10s seconds\n",
      "INFO:pykeen.training.training_loop:=> Saved checkpoint after having finished epoch 20.\n",
      "INFO:pykeen.evaluation.evaluator:Evaluation took 256.98s seconds\n",
      "INFO:pykeen.training.training_loop:=> Saved checkpoint after having finished epoch 30.\n",
      "INFO:pykeen.evaluation.evaluator:Evaluation took 257.11s seconds\n",
      "INFO:pykeen.evaluation.evaluator:Evaluation took 257.11s seconds\n",
      "INFO:pykeen.training.training_loop:=> Saved checkpoint after having finished epoch 50.\n",
      "INFO:pykeen.evaluation.evaluator:Evaluation took 257.06s seconds\n",
      "INFO:pykeen.training.training_loop:=> Saved checkpoint after having finished epoch 60.\n",
      "INFO:pykeen.evaluation.evaluator:Evaluation took 256.97s seconds\n",
      "INFO:pykeen.evaluation.evaluator:Evaluation took 256.99s seconds\n",
      "INFO:pykeen.stoppers.early_stopping:Stopping early after 8 evaluations at epoch 80. The best result hits_at_k=0.0964281638708205 occurred at epoch 60.\n",
      "INFO:pykeen.training.training_loop:=> loading checkpoint 'C:\\Users\\hvags\\AppData\\Local\\Temp\\tmpkakv7316'\n",
      "INFO:pykeen.training.training_loop:=> loaded checkpoint 'C:\\Users\\hvags\\AppData\\Local\\Temp\\tmpkakv7316' stopped after having finished epoch 60\n"
     ]
    },
    {
     "data": {
      "application/vnd.jupyter.widget-view+json": {
       "model_id": "961d0be48c2e48c3ae191388d4788aa0",
       "version_major": 2,
       "version_minor": 0
      },
      "text/plain": [
       "Evaluating on cuda:   0%|          | 0.00/17.5k [00:00<?, ?triple/s]"
      ]
     },
     "metadata": {},
     "output_type": "display_data"
    },
    {
     "name": "stderr",
     "output_type": "stream",
     "text": [
      "INFO:pykeen.evaluation.evaluator:Evaluation took 257.86s seconds\n",
      "\u001b[32m[I 2021-11-11 02:09:48,831]\u001b[0m Trial 3 finished with value: 0.05659306173605251 and parameters: {'model.embedding_dim': 288, 'loss.margin': 1, 'loss.margin_activation': 'softplus', 'regularizer.weight': 0.26607107507619676, 'optimizer.lr': 0.08799109150760788, 'negative_sampler.num_negs_per_pos': 15, 'training.batch_size': 256}. Best is trial 2 with value: 0.058491684417425006.\u001b[0m\n",
      "C:\\Appl\\Anaconda3\\envs\\cuda\\lib\\site-packages\\optuna\\distributions.py:560: UserWarning: The distribution is specified by [32, 400] and step=64, but the range is not divisible by `step`. It will be replaced by [32, 352].\n",
      "  warnings.warn(\n",
      "WARNING:pykeen.pipeline.api:No random seed is specified. Setting to 1018714830.\n"
     ]
    },
    {
     "data": {
      "application/vnd.jupyter.widget-view+json": {
       "model_id": "850f75b9c066445f97d240887b7b5b67",
       "version_major": 2,
       "version_minor": 0
      },
      "text/plain": [
       "Training epochs on cuda:   0%|          | 0/100 [00:00<?, ?epoch/s]"
      ]
     },
     "metadata": {},
     "output_type": "display_data"
    },
    {
     "name": "stderr",
     "output_type": "stream",
     "text": [
      "INFO:pykeen.evaluation.evaluator:Starting batch_size search for evaluation now...\n",
      "INFO:pykeen.evaluation.evaluator:Concluded batch_size search with batch_size=256.\n",
      "INFO:pykeen.evaluation.evaluator:Evaluation took 55.58s seconds\n",
      "INFO:pykeen.training.training_loop:=> Saved checkpoint after having finished epoch 10.\n",
      "INFO:pykeen.evaluation.evaluator:Evaluation took 55.62s seconds\n",
      "INFO:pykeen.evaluation.evaluator:Evaluation took 55.58s seconds\n",
      "INFO:pykeen.training.training_loop:=> Saved checkpoint after having finished epoch 30.\n",
      "INFO:pykeen.evaluation.evaluator:Evaluation took 55.61s seconds\n",
      "INFO:pykeen.training.training_loop:=> Saved checkpoint after having finished epoch 40.\n",
      "INFO:pykeen.evaluation.evaluator:Evaluation took 55.72s seconds\n",
      "INFO:pykeen.evaluation.evaluator:Evaluation took 55.57s seconds\n",
      "INFO:pykeen.stoppers.early_stopping:Stopping early after 6 evaluations at epoch 60. The best result hits_at_k=0.0014264521282665755 occurred at epoch 40.\n",
      "INFO:pykeen.training.training_loop:=> loading checkpoint 'C:\\Users\\hvags\\AppData\\Local\\Temp\\tmp3lggchut'\n",
      "INFO:pykeen.training.training_loop:=> loaded checkpoint 'C:\\Users\\hvags\\AppData\\Local\\Temp\\tmp3lggchut' stopped after having finished epoch 40\n"
     ]
    },
    {
     "data": {
      "application/vnd.jupyter.widget-view+json": {
       "model_id": "61ea3f56564a479a94b484359a8a124b",
       "version_major": 2,
       "version_minor": 0
      },
      "text/plain": [
       "Evaluating on cuda:   0%|          | 0.00/17.5k [00:00<?, ?triple/s]"
      ]
     },
     "metadata": {},
     "output_type": "display_data"
    },
    {
     "name": "stderr",
     "output_type": "stream",
     "text": [
      "INFO:pykeen.evaluation.evaluator:Evaluation took 55.71s seconds\n",
      "\u001b[32m[I 2021-11-11 02:37:57,752]\u001b[0m Trial 4 finished with value: 0.001117375789715791 and parameters: {'model.embedding_dim': 32, 'loss.margin': 3, 'loss.margin_activation': 'relu', 'regularizer.weight': 0.5839354888900078, 'optimizer.lr': 0.09417901280625514, 'negative_sampler.num_negs_per_pos': 57, 'training.batch_size': 256}. Best is trial 2 with value: 0.058491684417425006.\u001b[0m\n",
      "C:\\Appl\\Anaconda3\\envs\\cuda\\lib\\site-packages\\optuna\\distributions.py:560: UserWarning: The distribution is specified by [32, 400] and step=64, but the range is not divisible by `step`. It will be replaced by [32, 352].\n",
      "  warnings.warn(\n",
      "WARNING:pykeen.pipeline.api:No random seed is specified. Setting to 741721296.\n"
     ]
    },
    {
     "data": {
      "application/vnd.jupyter.widget-view+json": {
       "model_id": "1449ba7ffad2448b85da6de4ef71078e",
       "version_major": 2,
       "version_minor": 0
      },
      "text/plain": [
       "Training epochs on cuda:   0%|          | 0/100 [00:00<?, ?epoch/s]"
      ]
     },
     "metadata": {},
     "output_type": "display_data"
    },
    {
     "name": "stderr",
     "output_type": "stream",
     "text": [
      "INFO:pykeen.evaluation.evaluator:Starting batch_size search for evaluation now...\n",
      "INFO:pykeen.evaluation.evaluator:Concluded batch_size search with batch_size=32.\n",
      "INFO:pykeen.evaluation.evaluator:Evaluation took 304.10s seconds\n",
      "INFO:pykeen.training.training_loop:=> Saved checkpoint after having finished epoch 10.\n",
      "INFO:pykeen.evaluation.evaluator:Evaluation took 303.86s seconds\n",
      "INFO:pykeen.evaluation.evaluator:Evaluation took 303.88s seconds\n",
      "INFO:pykeen.stoppers.early_stopping:Stopping early after 3 evaluations at epoch 30. The best result hits_at_k=0.002852904256533151 occurred at epoch 10.\n",
      "INFO:pykeen.training.training_loop:=> loading checkpoint 'C:\\Users\\hvags\\AppData\\Local\\Temp\\tmph9ey8fh7'\n",
      "INFO:pykeen.training.training_loop:=> loaded checkpoint 'C:\\Users\\hvags\\AppData\\Local\\Temp\\tmph9ey8fh7' stopped after having finished epoch 10\n"
     ]
    },
    {
     "data": {
      "application/vnd.jupyter.widget-view+json": {
       "model_id": "7ad64a42569d4450a141aab31f8d127d",
       "version_major": 2,
       "version_minor": 0
      },
      "text/plain": [
       "Evaluating on cuda:   0%|          | 0.00/17.5k [00:00<?, ?triple/s]"
      ]
     },
     "metadata": {},
     "output_type": "display_data"
    },
    {
     "name": "stderr",
     "output_type": "stream",
     "text": [
      "INFO:pykeen.evaluation.evaluator:Evaluation took 304.68s seconds\n",
      "\u001b[32m[I 2021-11-11 03:55:07,098]\u001b[0m Trial 5 finished with value: 0.0025737097421691894 and parameters: {'model.embedding_dim': 352, 'loss.margin': 2, 'loss.margin_activation': 'softplus', 'regularizer.weight': 0.7131566954307152, 'optimizer.lr': 0.09589739433765308, 'negative_sampler.num_negs_per_pos': 69, 'training.batch_size': 768}. Best is trial 2 with value: 0.058491684417425006.\u001b[0m\n",
      "C:\\Appl\\Anaconda3\\envs\\cuda\\lib\\site-packages\\optuna\\distributions.py:560: UserWarning: The distribution is specified by [32, 400] and step=64, but the range is not divisible by `step`. It will be replaced by [32, 352].\n",
      "  warnings.warn(\n",
      "WARNING:pykeen.pipeline.api:No random seed is specified. Setting to 2792822400.\n"
     ]
    },
    {
     "data": {
      "application/vnd.jupyter.widget-view+json": {
       "model_id": "f3e4457a97c9411a8d0e319bff49bfc2",
       "version_major": 2,
       "version_minor": 0
      },
      "text/plain": [
       "Training epochs on cuda:   0%|          | 0/100 [00:00<?, ?epoch/s]"
      ]
     },
     "metadata": {},
     "output_type": "display_data"
    },
    {
     "name": "stderr",
     "output_type": "stream",
     "text": [
      "INFO:pykeen.evaluation.evaluator:Starting batch_size search for evaluation now...\n",
      "INFO:pykeen.evaluation.evaluator:Concluded batch_size search with batch_size=64.\n",
      "INFO:pykeen.evaluation.evaluator:Evaluation took 202.23s seconds\n",
      "INFO:pykeen.training.training_loop:=> Saved checkpoint after having finished epoch 10.\n",
      "INFO:pykeen.evaluation.evaluator:Evaluation took 202.24s seconds\n",
      "INFO:pykeen.training.training_loop:=> Saved checkpoint after having finished epoch 20.\n",
      "INFO:pykeen.evaluation.evaluator:Evaluation took 202.24s seconds\n",
      "INFO:pykeen.training.training_loop:=> Saved checkpoint after having finished epoch 30.\n",
      "INFO:pykeen.evaluation.evaluator:Evaluation took 202.27s seconds\n",
      "INFO:pykeen.evaluation.evaluator:Evaluation took 202.27s seconds\n",
      "INFO:pykeen.stoppers.early_stopping:Stopping early after 5 evaluations at epoch 50. The best result hits_at_k=0.0014264521282665755 occurred at epoch 30.\n",
      "INFO:pykeen.training.training_loop:=> loading checkpoint 'C:\\Users\\hvags\\AppData\\Local\\Temp\\tmph19t7v7s'\n",
      "INFO:pykeen.training.training_loop:=> loaded checkpoint 'C:\\Users\\hvags\\AppData\\Local\\Temp\\tmph19t7v7s' stopped after having finished epoch 30\n"
     ]
    },
    {
     "data": {
      "application/vnd.jupyter.widget-view+json": {
       "model_id": "6427c5d5c23b48d187a14e22fd90f8da",
       "version_major": 2,
       "version_minor": 0
      },
      "text/plain": [
       "Evaluating on cuda:   0%|          | 0.00/17.5k [00:00<?, ?triple/s]"
      ]
     },
     "metadata": {},
     "output_type": "display_data"
    },
    {
     "name": "stderr",
     "output_type": "stream",
     "text": [
      "INFO:pykeen.evaluation.evaluator:Evaluation took 202.74s seconds\n",
      "\u001b[32m[I 2021-11-11 04:32:53,424]\u001b[0m Trial 6 finished with value: 0.0011560217673419041 and parameters: {'model.embedding_dim': 224, 'loss.margin': 1, 'loss.margin_activation': 'softplus', 'regularizer.weight': 0.6402912159234952, 'optimizer.lr': 0.013415183395645416, 'negative_sampler.num_negs_per_pos': 2, 'training.batch_size': 256}. Best is trial 2 with value: 0.058491684417425006.\u001b[0m\n",
      "C:\\Appl\\Anaconda3\\envs\\cuda\\lib\\site-packages\\optuna\\distributions.py:560: UserWarning: The distribution is specified by [32, 400] and step=64, but the range is not divisible by `step`. It will be replaced by [32, 352].\n",
      "  warnings.warn(\n",
      "WARNING:pykeen.pipeline.api:No random seed is specified. Setting to 2916083456.\n"
     ]
    },
    {
     "data": {
      "application/vnd.jupyter.widget-view+json": {
       "model_id": "4b0f3d944d464232a3beff68e91e0b7d",
       "version_major": 2,
       "version_minor": 0
      },
      "text/plain": [
       "Training epochs on cuda:   0%|          | 0/100 [00:00<?, ?epoch/s]"
      ]
     },
     "metadata": {},
     "output_type": "display_data"
    },
    {
     "name": "stderr",
     "output_type": "stream",
     "text": [
      "INFO:pykeen.evaluation.evaluator:Starting batch_size search for evaluation now...\n",
      "INFO:pykeen.evaluation.evaluator:Concluded batch_size search with batch_size=64.\n",
      "INFO:pykeen.evaluation.evaluator:Evaluation took 202.28s seconds\n",
      "INFO:pykeen.training.training_loop:=> Saved checkpoint after having finished epoch 10.\n",
      "INFO:pykeen.evaluation.evaluator:Evaluation took 202.23s seconds\n",
      "INFO:pykeen.evaluation.evaluator:Evaluation took 202.26s seconds\n",
      "INFO:pykeen.stoppers.early_stopping:Stopping early after 3 evaluations at epoch 30. The best result hits_at_k=0.0020540910647038686 occurred at epoch 10.\n",
      "INFO:pykeen.training.training_loop:=> loading checkpoint 'C:\\Users\\hvags\\AppData\\Local\\Temp\\tmpd6g19w28'\n",
      "INFO:pykeen.training.training_loop:=> loaded checkpoint 'C:\\Users\\hvags\\AppData\\Local\\Temp\\tmpd6g19w28' stopped after having finished epoch 10\n"
     ]
    },
    {
     "data": {
      "application/vnd.jupyter.widget-view+json": {
       "model_id": "744e9115325d47469b907c9bc3906ff7",
       "version_major": 2,
       "version_minor": 0
      },
      "text/plain": [
       "Evaluating on cuda:   0%|          | 0.00/17.5k [00:00<?, ?triple/s]"
      ]
     },
     "metadata": {},
     "output_type": "display_data"
    },
    {
     "name": "stderr",
     "output_type": "stream",
     "text": [
      "INFO:pykeen.evaluation.evaluator:Evaluation took 202.71s seconds\n",
      "\u001b[32m[I 2021-11-11 04:49:55,025]\u001b[0m Trial 7 finished with value: 0.0018874179083434597 and parameters: {'model.embedding_dim': 224, 'loss.margin': 1, 'loss.margin_activation': 'relu', 'regularizer.weight': 0.6881186525838907, 'optimizer.lr': 0.0965756651702864, 'negative_sampler.num_negs_per_pos': 1, 'training.batch_size': 1024}. Best is trial 2 with value: 0.058491684417425006.\u001b[0m\n",
      "C:\\Appl\\Anaconda3\\envs\\cuda\\lib\\site-packages\\optuna\\distributions.py:560: UserWarning: The distribution is specified by [32, 400] and step=64, but the range is not divisible by `step`. It will be replaced by [32, 352].\n",
      "  warnings.warn(\n",
      "WARNING:pykeen.pipeline.api:No random seed is specified. Setting to 618854707.\n"
     ]
    },
    {
     "data": {
      "application/vnd.jupyter.widget-view+json": {
       "model_id": "05bbb4d05c714a5989d0959a3f60c6f7",
       "version_major": 2,
       "version_minor": 0
      },
      "text/plain": [
       "Training epochs on cuda:   0%|          | 0/100 [00:00<?, ?epoch/s]"
      ]
     },
     "metadata": {},
     "output_type": "display_data"
    },
    {
     "name": "stderr",
     "output_type": "stream",
     "text": [
      "INFO:pykeen.evaluation.evaluator:Starting batch_size search for evaluation now...\n",
      "INFO:pykeen.evaluation.evaluator:Concluded batch_size search with batch_size=32.\n",
      "INFO:pykeen.evaluation.evaluator:Evaluation took 256.66s seconds\n",
      "INFO:pykeen.training.training_loop:=> Saved checkpoint after having finished epoch 10.\n",
      "INFO:pykeen.evaluation.evaluator:Evaluation took 256.69s seconds\n",
      "INFO:pykeen.evaluation.evaluator:Evaluation took 256.81s seconds\n",
      "INFO:pykeen.stoppers.early_stopping:Stopping early after 3 evaluations at epoch 30. The best result hits_at_k=0.061365970558028074 occurred at epoch 10.\n",
      "INFO:pykeen.training.training_loop:=> loading checkpoint 'C:\\Users\\hvags\\AppData\\Local\\Temp\\tmpo26gu4e7'\n",
      "INFO:pykeen.training.training_loop:=> loaded checkpoint 'C:\\Users\\hvags\\AppData\\Local\\Temp\\tmpo26gu4e7' stopped after having finished epoch 10\n"
     ]
    },
    {
     "data": {
      "application/vnd.jupyter.widget-view+json": {
       "model_id": "c74b561646bb43738fce1bc67cc6f0ff",
       "version_major": 2,
       "version_minor": 0
      },
      "text/plain": [
       "Evaluating on cuda:   0%|          | 0.00/17.5k [00:00<?, ?triple/s]"
      ]
     },
     "metadata": {},
     "output_type": "display_data"
    },
    {
     "name": "stderr",
     "output_type": "stream",
     "text": [
      "INFO:pykeen.evaluation.evaluator:Evaluation took 257.46s seconds\n",
      "\u001b[32m[I 2021-11-11 05:27:18,295]\u001b[0m Trial 8 finished with value: 0.027004428363425384 and parameters: {'model.embedding_dim': 288, 'loss.margin': 3, 'loss.margin_activation': 'softplus', 'regularizer.weight': 0.28606736935373256, 'optimizer.lr': 0.0344142052668288, 'negative_sampler.num_negs_per_pos': 25, 'training.batch_size': 768}. Best is trial 2 with value: 0.058491684417425006.\u001b[0m\n",
      "C:\\Appl\\Anaconda3\\envs\\cuda\\lib\\site-packages\\optuna\\distributions.py:560: UserWarning: The distribution is specified by [32, 400] and step=64, but the range is not divisible by `step`. It will be replaced by [32, 352].\n",
      "  warnings.warn(\n",
      "WARNING:pykeen.pipeline.api:No random seed is specified. Setting to 2575657528.\n"
     ]
    },
    {
     "data": {
      "application/vnd.jupyter.widget-view+json": {
       "model_id": "c1ddc2f9d7ca4b39889baaca4803c8d1",
       "version_major": 2,
       "version_minor": 0
      },
      "text/plain": [
       "Training epochs on cuda:   0%|          | 0/100 [00:00<?, ?epoch/s]"
      ]
     },
     "metadata": {},
     "output_type": "display_data"
    },
    {
     "name": "stderr",
     "output_type": "stream",
     "text": [
      "INFO:pykeen.evaluation.evaluator:Starting batch_size search for evaluation now...\n",
      "INFO:pykeen.evaluation.evaluator:Concluded batch_size search with batch_size=32.\n",
      "INFO:pykeen.evaluation.evaluator:Evaluation took 303.75s seconds\n",
      "INFO:pykeen.training.training_loop:=> Saved checkpoint after having finished epoch 10.\n",
      "INFO:pykeen.evaluation.evaluator:Evaluation took 303.84s seconds\n",
      "INFO:pykeen.training.training_loop:=> Saved checkpoint after having finished epoch 20.\n",
      "INFO:pykeen.evaluation.evaluator:Evaluation took 303.94s seconds\n",
      "INFO:pykeen.training.training_loop:=> Saved checkpoint after having finished epoch 30.\n",
      "INFO:pykeen.evaluation.evaluator:Evaluation took 303.89s seconds\n",
      "INFO:pykeen.evaluation.evaluator:Evaluation took 303.83s seconds\n",
      "INFO:pykeen.stoppers.early_stopping:Stopping early after 5 evaluations at epoch 50. The best result hits_at_k=0.01591920575145498 occurred at epoch 30.\n",
      "INFO:pykeen.training.training_loop:=> loading checkpoint 'C:\\Users\\hvags\\AppData\\Local\\Temp\\tmpyfibunh5'\n",
      "INFO:pykeen.training.training_loop:=> loaded checkpoint 'C:\\Users\\hvags\\AppData\\Local\\Temp\\tmpyfibunh5' stopped after having finished epoch 30\n"
     ]
    },
    {
     "data": {
      "application/vnd.jupyter.widget-view+json": {
       "model_id": "b8b46aff751d4737beddfb258c5dc555",
       "version_major": 2,
       "version_minor": 0
      },
      "text/plain": [
       "Evaluating on cuda:   0%|          | 0.00/17.5k [00:00<?, ?triple/s]"
      ]
     },
     "metadata": {},
     "output_type": "display_data"
    },
    {
     "name": "stderr",
     "output_type": "stream",
     "text": [
      "INFO:pykeen.evaluation.evaluator:Evaluation took 304.72s seconds\n",
      "\u001b[32m[I 2021-11-11 06:22:13,724]\u001b[0m Trial 9 finished with value: 0.010649586568329254 and parameters: {'model.embedding_dim': 352, 'loss.margin': 0, 'loss.margin_activation': 'softplus', 'regularizer.weight': 0.37278616919252294, 'optimizer.lr': 0.07211250927454121, 'negative_sampler.num_negs_per_pos': 10, 'training.batch_size': 512}. Best is trial 2 with value: 0.058491684417425006.\u001b[0m\n",
      "\u001b[32m[I 2021-11-11 06:22:13,850]\u001b[0m A new study created in memory with name: no-name-a0f15285-560f-4564-98ab-f3af16037703\u001b[0m\n",
      "INFO:pykeen.hpo.hpo:Using model: <class 'pykeen.models.unimodal.complex.ComplEx'>\n",
      "INFO:pykeen.hpo.hpo:Using loss: <class 'pykeen.losses.MarginRankingLoss'>\n",
      "INFO:pykeen.hpo.hpo:Using regularizer: <class 'pykeen.regularizers.LpRegularizer'>\n",
      "INFO:pykeen.hpo.hpo:Using optimizer: <class 'torch.optim.adam.Adam'>\n",
      "INFO:pykeen.hpo.hpo:Using training loop: <class 'pykeen.training.slcwa.SLCWATrainingLoop'>\n",
      "INFO:pykeen.hpo.hpo:Using negative sampler: <class 'pykeen.sampling.basic_negative_sampler.BasicNegativeSampler'>\n",
      "INFO:pykeen.hpo.hpo:Using evaluator: <class 'pykeen.evaluation.rank_based_evaluator.RankBasedEvaluator'>\n",
      "INFO:pykeen.hpo.hpo:Attempting to maximize MEAN_RECIPROCAL_RANK\n",
      "INFO:pykeen.hpo.hpo:Filter validation triples when testing: True\n",
      "C:\\Appl\\Anaconda3\\envs\\cuda\\lib\\site-packages\\optuna\\distributions.py:560: UserWarning: The distribution is specified by [32, 400] and step=64, but the range is not divisible by `step`. It will be replaced by [32, 352].\n",
      "  warnings.warn(\n",
      "WARNING:pykeen.pipeline.api:No random seed is specified. Setting to 238321635.\n"
     ]
    },
    {
     "name": "stdout",
     "output_type": "stream",
     "text": [
      "fb15k-237-sym\n",
      "Dataset: fb15k-237-sym, Model: ComplEx\n"
     ]
    },
    {
     "data": {
      "application/vnd.jupyter.widget-view+json": {
       "model_id": "2f4266ab2a384c79bfe58574119a47f3",
       "version_major": 2,
       "version_minor": 0
      },
      "text/plain": [
       "Training epochs on cuda:   0%|          | 0/100 [00:00<?, ?epoch/s]"
      ]
     },
     "metadata": {},
     "output_type": "display_data"
    },
    {
     "name": "stderr",
     "output_type": "stream",
     "text": [
      "INFO:pykeen.evaluation.evaluator:Starting batch_size search for evaluation now...\n",
      "INFO:pykeen.evaluation.evaluator:Concluded batch_size search with batch_size=128.\n",
      "INFO:pykeen.evaluation.evaluator:Evaluation took 2.38s seconds\n",
      "INFO:pykeen.training.training_loop:=> Saved checkpoint after having finished epoch 10.\n",
      "INFO:pykeen.evaluation.evaluator:Evaluation took 2.37s seconds\n",
      "INFO:pykeen.evaluation.evaluator:Evaluation took 2.37s seconds\n",
      "INFO:pykeen.stoppers.early_stopping:Stopping early after 3 evaluations at epoch 30. The best result hits_at_k=0.018115942028985508 occurred at epoch 10.\n",
      "INFO:pykeen.training.training_loop:=> loading checkpoint 'C:\\Users\\hvags\\AppData\\Local\\Temp\\tmpxb1lgcu4'\n",
      "INFO:pykeen.training.training_loop:=> loaded checkpoint 'C:\\Users\\hvags\\AppData\\Local\\Temp\\tmpxb1lgcu4' stopped after having finished epoch 10\n"
     ]
    },
    {
     "data": {
      "application/vnd.jupyter.widget-view+json": {
       "model_id": "f544ed09d01e4e36b24c9006cf9acffe",
       "version_major": 2,
       "version_minor": 0
      },
      "text/plain": [
       "Evaluating on cuda:   0%|          | 0.00/414 [00:00<?, ?triple/s]"
      ]
     },
     "metadata": {},
     "output_type": "display_data"
    },
    {
     "name": "stderr",
     "output_type": "stream",
     "text": [
      "INFO:pykeen.evaluation.evaluator:Evaluation took 2.42s seconds\n",
      "\u001b[32m[I 2021-11-11 06:23:35,604]\u001b[0m Trial 0 finished with value: 0.00909290490846757 and parameters: {'model.embedding_dim': 288, 'loss.margin': 0, 'loss.margin_activation': 'relu', 'regularizer.weight': 0.07470944848923816, 'optimizer.lr': 0.0591787839830761, 'negative_sampler.num_negs_per_pos': 7, 'training.batch_size': 1024}. Best is trial 0 with value: 0.00909290490846757.\u001b[0m\n",
      "C:\\Appl\\Anaconda3\\envs\\cuda\\lib\\site-packages\\optuna\\distributions.py:560: UserWarning: The distribution is specified by [32, 400] and step=64, but the range is not divisible by `step`. It will be replaced by [32, 352].\n",
      "  warnings.warn(\n",
      "WARNING:pykeen.pipeline.api:No random seed is specified. Setting to 1023263226.\n"
     ]
    },
    {
     "data": {
      "application/vnd.jupyter.widget-view+json": {
       "model_id": "cd7af2d1cc604c7a8eecd4533e5da8a5",
       "version_major": 2,
       "version_minor": 0
      },
      "text/plain": [
       "Training epochs on cuda:   0%|          | 0/100 [00:00<?, ?epoch/s]"
      ]
     },
     "metadata": {},
     "output_type": "display_data"
    },
    {
     "name": "stderr",
     "output_type": "stream",
     "text": [
      "INFO:pykeen.evaluation.evaluator:Starting batch_size search for evaluation now...\n",
      "INFO:pykeen.evaluation.evaluator:Concluded batch_size search with batch_size=128.\n",
      "INFO:pykeen.evaluation.evaluator:Evaluation took 1.84s seconds\n",
      "INFO:pykeen.training.training_loop:=> Saved checkpoint after having finished epoch 10.\n",
      "INFO:pykeen.evaluation.evaluator:Evaluation took 1.82s seconds\n",
      "INFO:pykeen.training.training_loop:=> Saved checkpoint after having finished epoch 20.\n",
      "INFO:pykeen.evaluation.evaluator:Evaluation took 1.84s seconds\n",
      "INFO:pykeen.evaluation.evaluator:Evaluation took 1.84s seconds\n",
      "INFO:pykeen.stoppers.early_stopping:Stopping early after 4 evaluations at epoch 40. The best result hits_at_k=0.14009661835748793 occurred at epoch 20.\n",
      "INFO:pykeen.training.training_loop:=> loading checkpoint 'C:\\Users\\hvags\\AppData\\Local\\Temp\\tmpou1dpv7h'\n",
      "INFO:pykeen.training.training_loop:=> loaded checkpoint 'C:\\Users\\hvags\\AppData\\Local\\Temp\\tmpou1dpv7h' stopped after having finished epoch 20\n"
     ]
    },
    {
     "data": {
      "application/vnd.jupyter.widget-view+json": {
       "model_id": "e0718b985e5d449bb88df5d0b9c0c784",
       "version_major": 2,
       "version_minor": 0
      },
      "text/plain": [
       "Evaluating on cuda:   0%|          | 0.00/414 [00:00<?, ?triple/s]"
      ]
     },
     "metadata": {},
     "output_type": "display_data"
    },
    {
     "name": "stderr",
     "output_type": "stream",
     "text": [
      "INFO:pykeen.evaluation.evaluator:Evaluation took 1.86s seconds\n",
      "\u001b[32m[I 2021-11-11 06:29:37,236]\u001b[0m Trial 1 finished with value: 0.06058689348592856 and parameters: {'model.embedding_dim': 224, 'loss.margin': 2, 'loss.margin_activation': 'softplus', 'regularizer.weight': 0.08618698680199706, 'optimizer.lr': 0.09973917274534543, 'negative_sampler.num_negs_per_pos': 49, 'training.batch_size': 256}. Best is trial 1 with value: 0.06058689348592856.\u001b[0m\n",
      "C:\\Appl\\Anaconda3\\envs\\cuda\\lib\\site-packages\\optuna\\distributions.py:560: UserWarning: The distribution is specified by [32, 400] and step=64, but the range is not divisible by `step`. It will be replaced by [32, 352].\n",
      "  warnings.warn(\n",
      "WARNING:pykeen.pipeline.api:No random seed is specified. Setting to 287378080.\n"
     ]
    },
    {
     "data": {
      "application/vnd.jupyter.widget-view+json": {
       "model_id": "60b52a7d0ffa49399062359b6052b9d2",
       "version_major": 2,
       "version_minor": 0
      },
      "text/plain": [
       "Training epochs on cuda:   0%|          | 0/100 [00:00<?, ?epoch/s]"
      ]
     },
     "metadata": {},
     "output_type": "display_data"
    },
    {
     "name": "stderr",
     "output_type": "stream",
     "text": [
      "INFO:pykeen.evaluation.evaluator:Starting batch_size search for evaluation now...\n",
      "INFO:pykeen.evaluation.evaluator:Concluded batch_size search with batch_size=256.\n",
      "INFO:pykeen.evaluation.evaluator:Evaluation took 0.96s seconds\n",
      "INFO:pykeen.training.training_loop:=> Saved checkpoint after having finished epoch 10.\n",
      "INFO:pykeen.evaluation.evaluator:Evaluation took 0.96s seconds\n",
      "INFO:pykeen.evaluation.evaluator:Evaluation took 0.96s seconds\n",
      "INFO:pykeen.training.training_loop:=> Saved checkpoint after having finished epoch 30.\n",
      "INFO:pykeen.evaluation.evaluator:Evaluation took 0.96s seconds\n",
      "INFO:pykeen.evaluation.evaluator:Evaluation took 0.96s seconds\n",
      "INFO:pykeen.stoppers.early_stopping:Stopping early after 5 evaluations at epoch 50. The best result hits_at_k=0.0012077294685990338 occurred at epoch 30.\n",
      "INFO:pykeen.training.training_loop:=> loading checkpoint 'C:\\Users\\hvags\\AppData\\Local\\Temp\\tmpyf1wbvf0'\n",
      "INFO:pykeen.training.training_loop:=> loaded checkpoint 'C:\\Users\\hvags\\AppData\\Local\\Temp\\tmpyf1wbvf0' stopped after having finished epoch 30\n"
     ]
    },
    {
     "data": {
      "application/vnd.jupyter.widget-view+json": {
       "model_id": "94977119290e44aa8eff43a6d78407ed",
       "version_major": 2,
       "version_minor": 0
      },
      "text/plain": [
       "Evaluating on cuda:   0%|          | 0.00/414 [00:00<?, ?triple/s]"
      ]
     },
     "metadata": {},
     "output_type": "display_data"
    },
    {
     "name": "stderr",
     "output_type": "stream",
     "text": [
      "INFO:pykeen.evaluation.evaluator:Evaluation took 1.00s seconds\n",
      "\u001b[32m[I 2021-11-11 06:31:16,478]\u001b[0m Trial 2 finished with value: 0.0013373083047630734 and parameters: {'model.embedding_dim': 96, 'loss.margin': 2, 'loss.margin_activation': 'softplus', 'regularizer.weight': 0.6774397507295377, 'optimizer.lr': 0.052898489847915536, 'negative_sampler.num_negs_per_pos': 4, 'training.batch_size': 256}. Best is trial 1 with value: 0.06058689348592856.\u001b[0m\n",
      "C:\\Appl\\Anaconda3\\envs\\cuda\\lib\\site-packages\\optuna\\distributions.py:560: UserWarning: The distribution is specified by [32, 400] and step=64, but the range is not divisible by `step`. It will be replaced by [32, 352].\n",
      "  warnings.warn(\n",
      "WARNING:pykeen.pipeline.api:No random seed is specified. Setting to 318190190.\n"
     ]
    },
    {
     "data": {
      "application/vnd.jupyter.widget-view+json": {
       "model_id": "85a738387cc4495d91c2d763e127b878",
       "version_major": 2,
       "version_minor": 0
      },
      "text/plain": [
       "Training epochs on cuda:   0%|          | 0/100 [00:00<?, ?epoch/s]"
      ]
     },
     "metadata": {},
     "output_type": "display_data"
    },
    {
     "name": "stderr",
     "output_type": "stream",
     "text": [
      "INFO:pykeen.evaluation.evaluator:Starting batch_size search for evaluation now...\n",
      "INFO:pykeen.evaluation.evaluator:Concluded batch_size search with batch_size=128.\n",
      "INFO:pykeen.evaluation.evaluator:Evaluation took 1.38s seconds\n",
      "INFO:pykeen.training.training_loop:=> Saved checkpoint after having finished epoch 10.\n",
      "INFO:pykeen.evaluation.evaluator:Evaluation took 1.39s seconds\n",
      "INFO:pykeen.training.training_loop:=> Saved checkpoint after having finished epoch 20.\n",
      "INFO:pykeen.evaluation.evaluator:Evaluation took 1.38s seconds\n",
      "INFO:pykeen.training.training_loop:=> Saved checkpoint after having finished epoch 30.\n",
      "INFO:pykeen.evaluation.evaluator:Evaluation took 1.38s seconds\n",
      "INFO:pykeen.evaluation.evaluator:Evaluation took 1.37s seconds\n",
      "INFO:pykeen.stoppers.early_stopping:Stopping early after 5 evaluations at epoch 50. The best result hits_at_k=0.5688405797101449 occurred at epoch 30.\n",
      "INFO:pykeen.training.training_loop:=> loading checkpoint 'C:\\Users\\hvags\\AppData\\Local\\Temp\\tmpd7wl27ik'\n",
      "INFO:pykeen.training.training_loop:=> loaded checkpoint 'C:\\Users\\hvags\\AppData\\Local\\Temp\\tmpd7wl27ik' stopped after having finished epoch 30\n"
     ]
    },
    {
     "data": {
      "application/vnd.jupyter.widget-view+json": {
       "model_id": "a4d701d07f564a43b21bd737d4cd2f4c",
       "version_major": 2,
       "version_minor": 0
      },
      "text/plain": [
       "Evaluating on cuda:   0%|          | 0.00/414 [00:00<?, ?triple/s]"
      ]
     },
     "metadata": {},
     "output_type": "display_data"
    },
    {
     "name": "stderr",
     "output_type": "stream",
     "text": [
      "INFO:pykeen.evaluation.evaluator:Evaluation took 1.42s seconds\n",
      "\u001b[32m[I 2021-11-11 06:38:32,530]\u001b[0m Trial 3 finished with value: 0.21088486980511226 and parameters: {'model.embedding_dim': 160, 'loss.margin': 2, 'loss.margin_activation': 'relu', 'regularizer.weight': 0.021737554949974758, 'optimizer.lr': 0.014255170038050182, 'negative_sampler.num_negs_per_pos': 67, 'training.batch_size': 256}. Best is trial 3 with value: 0.21088486980511226.\u001b[0m\n",
      "C:\\Appl\\Anaconda3\\envs\\cuda\\lib\\site-packages\\optuna\\distributions.py:560: UserWarning: The distribution is specified by [32, 400] and step=64, but the range is not divisible by `step`. It will be replaced by [32, 352].\n",
      "  warnings.warn(\n",
      "WARNING:pykeen.pipeline.api:No random seed is specified. Setting to 248000662.\n"
     ]
    },
    {
     "data": {
      "application/vnd.jupyter.widget-view+json": {
       "model_id": "1ee91360c91c4359b39733a1f9dc7b03",
       "version_major": 2,
       "version_minor": 0
      },
      "text/plain": [
       "Training epochs on cuda:   0%|          | 0/100 [00:00<?, ?epoch/s]"
      ]
     },
     "metadata": {},
     "output_type": "display_data"
    },
    {
     "name": "stderr",
     "output_type": "stream",
     "text": [
      "INFO:pykeen.evaluation.evaluator:Starting batch_size search for evaluation now...\n",
      "INFO:pykeen.evaluation.evaluator:Concluded batch_size search with batch_size=128.\n",
      "INFO:pykeen.evaluation.evaluator:Evaluation took 1.38s seconds\n",
      "INFO:pykeen.training.training_loop:=> Saved checkpoint after having finished epoch 10.\n",
      "INFO:pykeen.evaluation.evaluator:Evaluation took 1.38s seconds\n",
      "INFO:pykeen.evaluation.evaluator:Evaluation took 1.38s seconds\n",
      "INFO:pykeen.stoppers.early_stopping:Stopping early after 3 evaluations at epoch 30. The best result hits_at_k=0.00966183574879227 occurred at epoch 10.\n",
      "INFO:pykeen.training.training_loop:=> loading checkpoint 'C:\\Users\\hvags\\AppData\\Local\\Temp\\tmpb_qt7_bw'\n",
      "INFO:pykeen.training.training_loop:=> loaded checkpoint 'C:\\Users\\hvags\\AppData\\Local\\Temp\\tmpb_qt7_bw' stopped after having finished epoch 10\n"
     ]
    },
    {
     "data": {
      "application/vnd.jupyter.widget-view+json": {
       "model_id": "e060189834564e9e9448dc108e3cfc0c",
       "version_major": 2,
       "version_minor": 0
      },
      "text/plain": [
       "Evaluating on cuda:   0%|          | 0.00/414 [00:00<?, ?triple/s]"
      ]
     },
     "metadata": {},
     "output_type": "display_data"
    },
    {
     "name": "stderr",
     "output_type": "stream",
     "text": [
      "INFO:pykeen.evaluation.evaluator:Evaluation took 1.42s seconds\n",
      "\u001b[32m[I 2021-11-11 06:39:13,536]\u001b[0m Trial 4 finished with value: 0.0039033752821278213 and parameters: {'model.embedding_dim': 160, 'loss.margin': 1, 'loss.margin_activation': 'relu', 'regularizer.weight': 0.5357227307140279, 'optimizer.lr': 0.022198457262415656, 'negative_sampler.num_negs_per_pos': 3, 'training.batch_size': 768}. Best is trial 3 with value: 0.21088486980511226.\u001b[0m\n",
      "C:\\Appl\\Anaconda3\\envs\\cuda\\lib\\site-packages\\optuna\\distributions.py:560: UserWarning: The distribution is specified by [32, 400] and step=64, but the range is not divisible by `step`. It will be replaced by [32, 352].\n",
      "  warnings.warn(\n",
      "WARNING:pykeen.pipeline.api:No random seed is specified. Setting to 1134287614.\n"
     ]
    },
    {
     "data": {
      "application/vnd.jupyter.widget-view+json": {
       "model_id": "cd09dab4c24b4e41b7a903b1d8b9fb3c",
       "version_major": 2,
       "version_minor": 0
      },
      "text/plain": [
       "Training epochs on cuda:   0%|          | 0/100 [00:00<?, ?epoch/s]"
      ]
     },
     "metadata": {},
     "output_type": "display_data"
    },
    {
     "name": "stderr",
     "output_type": "stream",
     "text": [
      "INFO:pykeen.evaluation.evaluator:Starting batch_size search for evaluation now...\n",
      "INFO:pykeen.evaluation.evaluator:Concluded batch_size search with batch_size=128.\n",
      "INFO:pykeen.evaluation.evaluator:Evaluation took 1.38s seconds\n",
      "INFO:pykeen.training.training_loop:=> Saved checkpoint after having finished epoch 10.\n",
      "INFO:pykeen.evaluation.evaluator:Evaluation took 1.38s seconds\n",
      "INFO:pykeen.training.training_loop:=> Saved checkpoint after having finished epoch 20.\n",
      "INFO:pykeen.evaluation.evaluator:Evaluation took 1.38s seconds\n",
      "INFO:pykeen.evaluation.evaluator:Evaluation took 1.38s seconds\n",
      "INFO:pykeen.stoppers.early_stopping:Stopping early after 4 evaluations at epoch 40. The best result hits_at_k=0.004830917874396135 occurred at epoch 20.\n",
      "INFO:pykeen.training.training_loop:=> loading checkpoint 'C:\\Users\\hvags\\AppData\\Local\\Temp\\tmpy8gvl8_7'\n",
      "INFO:pykeen.training.training_loop:=> loaded checkpoint 'C:\\Users\\hvags\\AppData\\Local\\Temp\\tmpy8gvl8_7' stopped after having finished epoch 20\n"
     ]
    },
    {
     "data": {
      "application/vnd.jupyter.widget-view+json": {
       "model_id": "e4431e76aa304558909b4fa999ce1dd8",
       "version_major": 2,
       "version_minor": 0
      },
      "text/plain": [
       "Evaluating on cuda:   0%|          | 0.00/414 [00:00<?, ?triple/s]"
      ]
     },
     "metadata": {},
     "output_type": "display_data"
    },
    {
     "name": "stderr",
     "output_type": "stream",
     "text": [
      "INFO:pykeen.evaluation.evaluator:Evaluation took 1.42s seconds\n",
      "\u001b[32m[I 2021-11-11 06:40:14,285]\u001b[0m Trial 5 finished with value: 0.001973379868502026 and parameters: {'model.embedding_dim': 160, 'loss.margin': 2, 'loss.margin_activation': 'softplus', 'regularizer.weight': 0.9446011900456531, 'optimizer.lr': 0.05516217506375532, 'negative_sampler.num_negs_per_pos': 3, 'training.batch_size': 512}. Best is trial 3 with value: 0.21088486980511226.\u001b[0m\n",
      "C:\\Appl\\Anaconda3\\envs\\cuda\\lib\\site-packages\\optuna\\distributions.py:560: UserWarning: The distribution is specified by [32, 400] and step=64, but the range is not divisible by `step`. It will be replaced by [32, 352].\n",
      "  warnings.warn(\n",
      "WARNING:pykeen.pipeline.api:No random seed is specified. Setting to 2754354761.\n"
     ]
    },
    {
     "data": {
      "application/vnd.jupyter.widget-view+json": {
       "model_id": "b01ff2ce893749a08d60e07e967b1589",
       "version_major": 2,
       "version_minor": 0
      },
      "text/plain": [
       "Training epochs on cuda:   0%|          | 0/100 [00:00<?, ?epoch/s]"
      ]
     },
     "metadata": {},
     "output_type": "display_data"
    },
    {
     "name": "stderr",
     "output_type": "stream",
     "text": [
      "INFO:pykeen.evaluation.evaluator:Starting batch_size search for evaluation now...\n",
      "INFO:pykeen.evaluation.evaluator:Concluded batch_size search with batch_size=128.\n",
      "INFO:pykeen.evaluation.evaluator:Evaluation took 1.84s seconds\n",
      "INFO:pykeen.training.training_loop:=> Saved checkpoint after having finished epoch 10.\n",
      "INFO:pykeen.evaluation.evaluator:Evaluation took 1.84s seconds\n",
      "INFO:pykeen.training.training_loop:=> Saved checkpoint after having finished epoch 20.\n",
      "INFO:pykeen.evaluation.evaluator:Evaluation took 1.84s seconds\n",
      "INFO:pykeen.evaluation.evaluator:Evaluation took 1.84s seconds\n",
      "INFO:pykeen.stoppers.early_stopping:Stopping early after 4 evaluations at epoch 40. The best result hits_at_k=0.07004830917874397 occurred at epoch 20.\n",
      "INFO:pykeen.training.training_loop:=> loading checkpoint 'C:\\Users\\hvags\\AppData\\Local\\Temp\\tmp9pyzfnuj'\n",
      "INFO:pykeen.training.training_loop:=> loaded checkpoint 'C:\\Users\\hvags\\AppData\\Local\\Temp\\tmp9pyzfnuj' stopped after having finished epoch 20\n"
     ]
    },
    {
     "data": {
      "application/vnd.jupyter.widget-view+json": {
       "model_id": "d249d25bad3e451aafdacbda2937a24b",
       "version_major": 2,
       "version_minor": 0
      },
      "text/plain": [
       "Evaluating on cuda:   0%|          | 0.00/414 [00:00<?, ?triple/s]"
      ]
     },
     "metadata": {},
     "output_type": "display_data"
    },
    {
     "name": "stderr",
     "output_type": "stream",
     "text": [
      "INFO:pykeen.evaluation.evaluator:Evaluation took 1.89s seconds\n",
      "\u001b[32m[I 2021-11-11 06:41:08,428]\u001b[0m Trial 6 finished with value: 0.027481081323872156 and parameters: {'model.embedding_dim': 224, 'loss.margin': 1, 'loss.margin_activation': 'relu', 'regularizer.weight': 0.3583181733199122, 'optimizer.lr': 0.01902380756640682, 'negative_sampler.num_negs_per_pos': 2, 'training.batch_size': 1024}. Best is trial 3 with value: 0.21088486980511226.\u001b[0m\n",
      "C:\\Appl\\Anaconda3\\envs\\cuda\\lib\\site-packages\\optuna\\distributions.py:560: UserWarning: The distribution is specified by [32, 400] and step=64, but the range is not divisible by `step`. It will be replaced by [32, 352].\n",
      "  warnings.warn(\n",
      "WARNING:pykeen.pipeline.api:No random seed is specified. Setting to 733171447.\n"
     ]
    },
    {
     "data": {
      "application/vnd.jupyter.widget-view+json": {
       "model_id": "7c6239f0f7e24e6295f042967e44570e",
       "version_major": 2,
       "version_minor": 0
      },
      "text/plain": [
       "Training epochs on cuda:   0%|          | 0/100 [00:00<?, ?epoch/s]"
      ]
     },
     "metadata": {},
     "output_type": "display_data"
    },
    {
     "name": "stderr",
     "output_type": "stream",
     "text": [
      "INFO:pykeen.evaluation.evaluator:Starting batch_size search for evaluation now...\n",
      "INFO:pykeen.evaluation.evaluator:Concluded batch_size search with batch_size=128.\n",
      "INFO:pykeen.evaluation.evaluator:Evaluation took 1.84s seconds\n",
      "INFO:pykeen.training.training_loop:=> Saved checkpoint after having finished epoch 10.\n",
      "INFO:pykeen.evaluation.evaluator:Evaluation took 1.84s seconds\n",
      "INFO:pykeen.evaluation.evaluator:Evaluation took 1.84s seconds\n",
      "INFO:pykeen.stoppers.early_stopping:Stopping early after 3 evaluations at epoch 30. The best result hits_at_k=0.0024154589371980675 occurred at epoch 10.\n",
      "INFO:pykeen.training.training_loop:=> loading checkpoint 'C:\\Users\\hvags\\AppData\\Local\\Temp\\tmpzhikql16'\n",
      "INFO:pykeen.training.training_loop:=> loaded checkpoint 'C:\\Users\\hvags\\AppData\\Local\\Temp\\tmpzhikql16' stopped after having finished epoch 10\n"
     ]
    },
    {
     "data": {
      "application/vnd.jupyter.widget-view+json": {
       "model_id": "c56c67d5cf714a269c7ffb58a936eeae",
       "version_major": 2,
       "version_minor": 0
      },
      "text/plain": [
       "Evaluating on cuda:   0%|          | 0.00/414 [00:00<?, ?triple/s]"
      ]
     },
     "metadata": {},
     "output_type": "display_data"
    },
    {
     "name": "stderr",
     "output_type": "stream",
     "text": [
      "INFO:pykeen.evaluation.evaluator:Evaluation took 1.89s seconds\n",
      "\u001b[32m[I 2021-11-11 06:42:24,898]\u001b[0m Trial 7 finished with value: 0.0015019052879160302 and parameters: {'model.embedding_dim': 224, 'loss.margin': 1, 'loss.margin_activation': 'softplus', 'regularizer.weight': 0.8410639795705092, 'optimizer.lr': 0.05077252539098605, 'negative_sampler.num_negs_per_pos': 8, 'training.batch_size': 768}. Best is trial 3 with value: 0.21088486980511226.\u001b[0m\n",
      "C:\\Appl\\Anaconda3\\envs\\cuda\\lib\\site-packages\\optuna\\distributions.py:560: UserWarning: The distribution is specified by [32, 400] and step=64, but the range is not divisible by `step`. It will be replaced by [32, 352].\n",
      "  warnings.warn(\n",
      "WARNING:pykeen.pipeline.api:No random seed is specified. Setting to 710859565.\n"
     ]
    },
    {
     "data": {
      "application/vnd.jupyter.widget-view+json": {
       "model_id": "2aa30da319b24665a73a365158e88321",
       "version_major": 2,
       "version_minor": 0
      },
      "text/plain": [
       "Training epochs on cuda:   0%|          | 0/100 [00:00<?, ?epoch/s]"
      ]
     },
     "metadata": {},
     "output_type": "display_data"
    },
    {
     "name": "stderr",
     "output_type": "stream",
     "text": [
      "INFO:pykeen.evaluation.evaluator:Starting batch_size search for evaluation now...\n",
      "INFO:pykeen.evaluation.evaluator:Concluded batch_size search with batch_size=128.\n",
      "INFO:pykeen.evaluation.evaluator:Evaluation took 1.84s seconds\n",
      "INFO:pykeen.training.training_loop:=> Saved checkpoint after having finished epoch 10.\n",
      "INFO:pykeen.evaluation.evaluator:Evaluation took 1.84s seconds\n",
      "INFO:pykeen.training.training_loop:=> Saved checkpoint after having finished epoch 20.\n",
      "INFO:pykeen.evaluation.evaluator:Evaluation took 1.84s seconds\n",
      "INFO:pykeen.evaluation.evaluator:Evaluation took 1.84s seconds\n",
      "INFO:pykeen.stoppers.early_stopping:Stopping early after 4 evaluations at epoch 40. The best result hits_at_k=0.0036231884057971015 occurred at epoch 20.\n",
      "INFO:pykeen.training.training_loop:=> loading checkpoint 'C:\\Users\\hvags\\AppData\\Local\\Temp\\tmpb7sb3jx0'\n",
      "INFO:pykeen.training.training_loop:=> loaded checkpoint 'C:\\Users\\hvags\\AppData\\Local\\Temp\\tmpb7sb3jx0' stopped after having finished epoch 20\n"
     ]
    },
    {
     "data": {
      "application/vnd.jupyter.widget-view+json": {
       "model_id": "ebf6018821cb41d3a2134301a29d4006",
       "version_major": 2,
       "version_minor": 0
      },
      "text/plain": [
       "Evaluating on cuda:   0%|          | 0.00/414 [00:00<?, ?triple/s]"
      ]
     },
     "metadata": {},
     "output_type": "display_data"
    },
    {
     "name": "stderr",
     "output_type": "stream",
     "text": [
      "INFO:pykeen.evaluation.evaluator:Evaluation took 1.88s seconds\n",
      "\u001b[32m[I 2021-11-11 06:43:11,730]\u001b[0m Trial 8 finished with value: 0.0013725369161771226 and parameters: {'model.embedding_dim': 224, 'loss.margin': 0, 'loss.margin_activation': 'relu', 'regularizer.weight': 0.7097622417167408, 'optimizer.lr': 0.06330707104962985, 'negative_sampler.num_negs_per_pos': 1, 'training.batch_size': 1024}. Best is trial 3 with value: 0.21088486980511226.\u001b[0m\n",
      "C:\\Appl\\Anaconda3\\envs\\cuda\\lib\\site-packages\\optuna\\distributions.py:560: UserWarning: The distribution is specified by [32, 400] and step=64, but the range is not divisible by `step`. It will be replaced by [32, 352].\n",
      "  warnings.warn(\n",
      "WARNING:pykeen.pipeline.api:No random seed is specified. Setting to 3791931403.\n"
     ]
    },
    {
     "data": {
      "application/vnd.jupyter.widget-view+json": {
       "model_id": "56382bb617db4180a3ca5a7272c78d7a",
       "version_major": 2,
       "version_minor": 0
      },
      "text/plain": [
       "Training epochs on cuda:   0%|          | 0/100 [00:00<?, ?epoch/s]"
      ]
     },
     "metadata": {},
     "output_type": "display_data"
    },
    {
     "name": "stderr",
     "output_type": "stream",
     "text": [
      "INFO:pykeen.evaluation.evaluator:Starting batch_size search for evaluation now...\n",
      "INFO:pykeen.evaluation.evaluator:Concluded batch_size search with batch_size=128.\n",
      "INFO:pykeen.evaluation.evaluator:Evaluation took 1.84s seconds\n",
      "INFO:pykeen.training.training_loop:=> Saved checkpoint after having finished epoch 10.\n",
      "INFO:pykeen.evaluation.evaluator:Evaluation took 1.84s seconds\n",
      "INFO:pykeen.training.training_loop:=> Saved checkpoint after having finished epoch 20.\n",
      "INFO:pykeen.evaluation.evaluator:Evaluation took 1.84s seconds\n",
      "INFO:pykeen.evaluation.evaluator:Evaluation took 1.84s seconds\n",
      "INFO:pykeen.stoppers.early_stopping:Stopping early after 4 evaluations at epoch 40. The best result hits_at_k=0.0036231884057971015 occurred at epoch 20.\n",
      "INFO:pykeen.training.training_loop:=> loading checkpoint 'C:\\Users\\hvags\\AppData\\Local\\Temp\\tmpge_lvow6'\n",
      "INFO:pykeen.training.training_loop:=> loaded checkpoint 'C:\\Users\\hvags\\AppData\\Local\\Temp\\tmpge_lvow6' stopped after having finished epoch 20\n"
     ]
    },
    {
     "data": {
      "application/vnd.jupyter.widget-view+json": {
       "model_id": "c849ec090dc441919892142904e54b6e",
       "version_major": 2,
       "version_minor": 0
      },
      "text/plain": [
       "Evaluating on cuda:   0%|          | 0.00/414 [00:00<?, ?triple/s]"
      ]
     },
     "metadata": {},
     "output_type": "display_data"
    },
    {
     "name": "stderr",
     "output_type": "stream",
     "text": [
      "INFO:pykeen.evaluation.evaluator:Evaluation took 1.88s seconds\n",
      "\u001b[32m[I 2021-11-11 06:45:39,813]\u001b[0m Trial 9 finished with value: 0.002880853831660077 and parameters: {'model.embedding_dim': 224, 'loss.margin': 2, 'loss.margin_activation': 'relu', 'regularizer.weight': 0.7829608256036649, 'optimizer.lr': 0.04750559264433615, 'negative_sampler.num_negs_per_pos': 12, 'training.batch_size': 256}. Best is trial 3 with value: 0.21088486980511226.\u001b[0m\n",
      "\u001b[32m[I 2021-11-11 06:45:39,903]\u001b[0m A new study created in memory with name: no-name-6e756afe-675d-4104-8e66-12bc26886aaa\u001b[0m\n",
      "INFO:pykeen.hpo.hpo:Using model: <class 'pykeen.models.unimodal.complex.ComplEx'>\n",
      "INFO:pykeen.hpo.hpo:Using loss: <class 'pykeen.losses.MarginRankingLoss'>\n",
      "INFO:pykeen.hpo.hpo:Using regularizer: <class 'pykeen.regularizers.LpRegularizer'>\n",
      "INFO:pykeen.hpo.hpo:Using optimizer: <class 'torch.optim.adam.Adam'>\n",
      "INFO:pykeen.hpo.hpo:Using training loop: <class 'pykeen.training.slcwa.SLCWATrainingLoop'>\n",
      "INFO:pykeen.hpo.hpo:Using negative sampler: <class 'pykeen.sampling.basic_negative_sampler.BasicNegativeSampler'>\n",
      "INFO:pykeen.hpo.hpo:Using evaluator: <class 'pykeen.evaluation.rank_based_evaluator.RankBasedEvaluator'>\n",
      "INFO:pykeen.hpo.hpo:Attempting to maximize MEAN_RECIPROCAL_RANK\n",
      "INFO:pykeen.hpo.hpo:Filter validation triples when testing: True\n",
      "C:\\Appl\\Anaconda3\\envs\\cuda\\lib\\site-packages\\optuna\\distributions.py:560: UserWarning: The distribution is specified by [32, 400] and step=64, but the range is not divisible by `step`. It will be replaced by [32, 352].\n",
      "  warnings.warn(\n",
      "WARNING:pykeen.pipeline.api:No random seed is specified. Setting to 3924207919.\n"
     ]
    },
    {
     "name": "stdout",
     "output_type": "stream",
     "text": [
      "fb15k-237-asym\n",
      "Dataset: fb15k-237-asym, Model: ComplEx\n"
     ]
    },
    {
     "data": {
      "application/vnd.jupyter.widget-view+json": {
       "model_id": "c64d7886010c4cba9d683e61f9d0df14",
       "version_major": 2,
       "version_minor": 0
      },
      "text/plain": [
       "Training epochs on cuda:   0%|          | 0/100 [00:00<?, ?epoch/s]"
      ]
     },
     "metadata": {},
     "output_type": "display_data"
    },
    {
     "name": "stderr",
     "output_type": "stream",
     "text": [
      "INFO:pykeen.evaluation.evaluator:Starting batch_size search for evaluation now...\n",
      "INFO:pykeen.evaluation.evaluator:Concluded batch_size search with batch_size=32.\n",
      "INFO:pykeen.evaluation.evaluator:Evaluation took 248.05s seconds\n",
      "INFO:pykeen.training.training_loop:=> Saved checkpoint after having finished epoch 10.\n",
      "INFO:pykeen.evaluation.evaluator:Evaluation took 248.11s seconds\n",
      "INFO:pykeen.training.training_loop:=> Saved checkpoint after having finished epoch 20.\n",
      "INFO:pykeen.evaluation.evaluator:Evaluation took 248.08s seconds\n",
      "INFO:pykeen.evaluation.evaluator:Evaluation took 248.03s seconds\n",
      "INFO:pykeen.stoppers.early_stopping:Stopping early after 4 evaluations at epoch 40. The best result hits_at_k=0.0003235294117647059 occurred at epoch 20.\n",
      "INFO:pykeen.training.training_loop:=> loading checkpoint 'C:\\Users\\hvags\\AppData\\Local\\Temp\\tmp63qk33n8'\n",
      "INFO:pykeen.training.training_loop:=> loaded checkpoint 'C:\\Users\\hvags\\AppData\\Local\\Temp\\tmp63qk33n8' stopped after having finished epoch 20\n"
     ]
    },
    {
     "data": {
      "application/vnd.jupyter.widget-view+json": {
       "model_id": "1df18cadfae44d3dbc1f95ccc84a0fc0",
       "version_major": 2,
       "version_minor": 0
      },
      "text/plain": [
       "Evaluating on cuda:   0%|          | 0.00/17.0k [00:00<?, ?triple/s]"
      ]
     },
     "metadata": {},
     "output_type": "display_data"
    },
    {
     "name": "stderr",
     "output_type": "stream",
     "text": [
      "INFO:pykeen.evaluation.evaluator:Evaluation took 248.89s seconds\n",
      "\u001b[32m[I 2021-11-11 07:20:25,671]\u001b[0m Trial 0 finished with value: 0.00048204033521725444 and parameters: {'model.embedding_dim': 288, 'loss.margin': 1, 'loss.margin_activation': 'relu', 'regularizer.weight': 0.9882807231493386, 'optimizer.lr': 0.026647345011704987, 'negative_sampler.num_negs_per_pos': 2, 'training.batch_size': 256}. Best is trial 0 with value: 0.00048204033521725444.\u001b[0m\n",
      "C:\\Appl\\Anaconda3\\envs\\cuda\\lib\\site-packages\\optuna\\distributions.py:560: UserWarning: The distribution is specified by [32, 400] and step=64, but the range is not divisible by `step`. It will be replaced by [32, 352].\n",
      "  warnings.warn(\n",
      "WARNING:pykeen.pipeline.api:No random seed is specified. Setting to 2427099180.\n"
     ]
    },
    {
     "data": {
      "application/vnd.jupyter.widget-view+json": {
       "model_id": "4365a8f151f14e97a3b78ab65e6b3ba6",
       "version_major": 2,
       "version_minor": 0
      },
      "text/plain": [
       "Training epochs on cuda:   0%|          | 0/100 [00:00<?, ?epoch/s]"
      ]
     },
     "metadata": {},
     "output_type": "display_data"
    },
    {
     "name": "stderr",
     "output_type": "stream",
     "text": [
      "INFO:pykeen.evaluation.evaluator:Starting batch_size search for evaluation now...\n",
      "INFO:pykeen.evaluation.evaluator:Concluded batch_size search with batch_size=32.\n",
      "INFO:pykeen.evaluation.evaluator:Evaluation took 248.06s seconds\n",
      "INFO:pykeen.training.training_loop:=> Saved checkpoint after having finished epoch 10.\n",
      "INFO:pykeen.evaluation.evaluator:Evaluation took 250.76s seconds\n",
      "INFO:pykeen.training.training_loop:=> Saved checkpoint after having finished epoch 20.\n",
      "INFO:pykeen.evaluation.evaluator:Evaluation took 249.24s seconds\n",
      "INFO:pykeen.evaluation.evaluator:Evaluation took 248.03s seconds\n",
      "INFO:pykeen.stoppers.early_stopping:Stopping early after 4 evaluations at epoch 40. The best result hits_at_k=0.0003823529411764706 occurred at epoch 20.\n",
      "INFO:pykeen.training.training_loop:=> loading checkpoint 'C:\\Users\\hvags\\AppData\\Local\\Temp\\tmpihboy7cm'\n",
      "INFO:pykeen.training.training_loop:=> loaded checkpoint 'C:\\Users\\hvags\\AppData\\Local\\Temp\\tmpihboy7cm' stopped after having finished epoch 20\n"
     ]
    },
    {
     "data": {
      "application/vnd.jupyter.widget-view+json": {
       "model_id": "fce5ba31281a466988d99a9b7f7daed0",
       "version_major": 2,
       "version_minor": 0
      },
      "text/plain": [
       "Evaluating on cuda:   0%|          | 0.00/17.0k [00:00<?, ?triple/s]"
      ]
     },
     "metadata": {},
     "output_type": "display_data"
    },
    {
     "name": "stderr",
     "output_type": "stream",
     "text": [
      "INFO:pykeen.evaluation.evaluator:Evaluation took 248.85s seconds\n",
      "\u001b[32m[I 2021-11-11 08:19:12,142]\u001b[0m Trial 1 finished with value: 0.0005234517821899428 and parameters: {'model.embedding_dim': 288, 'loss.margin': 1, 'loss.margin_activation': 'softplus', 'regularizer.weight': 0.27895603401291585, 'optimizer.lr': 0.012288348913019744, 'negative_sampler.num_negs_per_pos': 39, 'training.batch_size': 256}. Best is trial 1 with value: 0.0005234517821899428.\u001b[0m\n",
      "C:\\Appl\\Anaconda3\\envs\\cuda\\lib\\site-packages\\optuna\\distributions.py:560: UserWarning: The distribution is specified by [32, 400] and step=64, but the range is not divisible by `step`. It will be replaced by [32, 352].\n",
      "  warnings.warn(\n",
      "WARNING:pykeen.pipeline.api:No random seed is specified. Setting to 2567215409.\n"
     ]
    },
    {
     "data": {
      "application/vnd.jupyter.widget-view+json": {
       "model_id": "ddea028847ac4440bfc232c4b56c0e31",
       "version_major": 2,
       "version_minor": 0
      },
      "text/plain": [
       "Training epochs on cuda:   0%|          | 0/100 [00:00<?, ?epoch/s]"
      ]
     },
     "metadata": {},
     "output_type": "display_data"
    },
    {
     "name": "stderr",
     "output_type": "stream",
     "text": [
      "INFO:pykeen.evaluation.evaluator:Starting batch_size search for evaluation now...\n",
      "INFO:pykeen.evaluation.evaluator:Concluded batch_size search with batch_size=128.\n",
      "INFO:pykeen.evaluation.evaluator:Evaluation took 101.86s seconds\n",
      "INFO:pykeen.training.training_loop:=> Saved checkpoint after having finished epoch 10.\n",
      "INFO:pykeen.evaluation.evaluator:Evaluation took 102.03s seconds\n",
      "INFO:pykeen.evaluation.evaluator:Evaluation took 101.95s seconds\n",
      "INFO:pykeen.training.training_loop:=> Saved checkpoint after having finished epoch 30.\n",
      "INFO:pykeen.evaluation.evaluator:Evaluation took 101.96s seconds\n",
      "INFO:pykeen.evaluation.evaluator:Evaluation took 101.93s seconds\n",
      "INFO:pykeen.stoppers.early_stopping:Stopping early after 5 evaluations at epoch 50. The best result hits_at_k=0.03232352941176471 occurred at epoch 30.\n",
      "INFO:pykeen.training.training_loop:=> loading checkpoint 'C:\\Users\\hvags\\AppData\\Local\\Temp\\tmpkh_nb3qq'\n",
      "INFO:pykeen.training.training_loop:=> loaded checkpoint 'C:\\Users\\hvags\\AppData\\Local\\Temp\\tmpkh_nb3qq' stopped after having finished epoch 30\n"
     ]
    },
    {
     "data": {
      "application/vnd.jupyter.widget-view+json": {
       "model_id": "0e5023152fad4d59ac53aa8e1a155877",
       "version_major": 2,
       "version_minor": 0
      },
      "text/plain": [
       "Evaluating on cuda:   0%|          | 0.00/17.0k [00:00<?, ?triple/s]"
      ]
     },
     "metadata": {},
     "output_type": "display_data"
    },
    {
     "name": "stderr",
     "output_type": "stream",
     "text": [
      "INFO:pykeen.evaluation.evaluator:Evaluation took 102.16s seconds\n",
      "\u001b[32m[I 2021-11-11 08:38:49,662]\u001b[0m Trial 2 finished with value: 0.015876730003865875 and parameters: {'model.embedding_dim': 96, 'loss.margin': 3, 'loss.margin_activation': 'relu', 'regularizer.weight': 0.2153359590536681, 'optimizer.lr': 0.048930530943250346, 'negative_sampler.num_negs_per_pos': 2, 'training.batch_size': 256}. Best is trial 2 with value: 0.015876730003865875.\u001b[0m\n",
      "C:\\Appl\\Anaconda3\\envs\\cuda\\lib\\site-packages\\optuna\\distributions.py:560: UserWarning: The distribution is specified by [32, 400] and step=64, but the range is not divisible by `step`. It will be replaced by [32, 352].\n",
      "  warnings.warn(\n",
      "WARNING:pykeen.pipeline.api:No random seed is specified. Setting to 436789009.\n"
     ]
    },
    {
     "data": {
      "application/vnd.jupyter.widget-view+json": {
       "model_id": "f9efb5ed77564b1793138b5f4eec5daf",
       "version_major": 2,
       "version_minor": 0
      },
      "text/plain": [
       "Training epochs on cuda:   0%|          | 0/100 [00:00<?, ?epoch/s]"
      ]
     },
     "metadata": {},
     "output_type": "display_data"
    },
    {
     "name": "stderr",
     "output_type": "stream",
     "text": [
      "INFO:pykeen.evaluation.evaluator:Starting batch_size search for evaluation now...\n",
      "INFO:pykeen.evaluation.evaluator:Concluded batch_size search with batch_size=128.\n",
      "INFO:pykeen.evaluation.evaluator:Evaluation took 101.94s seconds\n",
      "INFO:pykeen.training.training_loop:=> Saved checkpoint after having finished epoch 10.\n",
      "INFO:pykeen.evaluation.evaluator:Evaluation took 101.85s seconds\n",
      "INFO:pykeen.training.training_loop:=> Saved checkpoint after having finished epoch 20.\n",
      "INFO:pykeen.evaluation.evaluator:Evaluation took 104.86s seconds\n",
      "INFO:pykeen.evaluation.evaluator:Evaluation took 104.18s seconds\n",
      "INFO:pykeen.stoppers.early_stopping:Stopping early after 4 evaluations at epoch 40. The best result hits_at_k=0.0004411764705882353 occurred at epoch 20.\n",
      "INFO:pykeen.training.training_loop:=> loading checkpoint 'C:\\Users\\hvags\\AppData\\Local\\Temp\\tmp116g3vub'\n",
      "INFO:pykeen.training.training_loop:=> loaded checkpoint 'C:\\Users\\hvags\\AppData\\Local\\Temp\\tmp116g3vub' stopped after having finished epoch 20\n"
     ]
    },
    {
     "data": {
      "application/vnd.jupyter.widget-view+json": {
       "model_id": "e8b7401082e14c2cb49af9754a3e1938",
       "version_major": 2,
       "version_minor": 0
      },
      "text/plain": [
       "Evaluating on cuda:   0%|          | 0.00/17.0k [00:00<?, ?triple/s]"
      ]
     },
     "metadata": {},
     "output_type": "display_data"
    },
    {
     "name": "stderr",
     "output_type": "stream",
     "text": [
      "INFO:pykeen.evaluation.evaluator:Evaluation took 103.68s seconds\n",
      "\u001b[32m[I 2021-11-11 08:50:52,585]\u001b[0m Trial 3 finished with value: 0.0004776410269521811 and parameters: {'model.embedding_dim': 96, 'loss.margin': 1, 'loss.margin_activation': 'relu', 'regularizer.weight': 0.5837222423907467, 'optimizer.lr': 0.04162757623114561, 'negative_sampler.num_negs_per_pos': 2, 'training.batch_size': 768}. Best is trial 2 with value: 0.015876730003865875.\u001b[0m\n",
      "C:\\Appl\\Anaconda3\\envs\\cuda\\lib\\site-packages\\optuna\\distributions.py:560: UserWarning: The distribution is specified by [32, 400] and step=64, but the range is not divisible by `step`. It will be replaced by [32, 352].\n",
      "  warnings.warn(\n",
      "WARNING:pykeen.pipeline.api:No random seed is specified. Setting to 432441827.\n"
     ]
    },
    {
     "data": {
      "application/vnd.jupyter.widget-view+json": {
       "model_id": "a9f543b9d73f434dafd0001cce0824c3",
       "version_major": 2,
       "version_minor": 0
      },
      "text/plain": [
       "Training epochs on cuda:   0%|          | 0/100 [00:00<?, ?epoch/s]"
      ]
     },
     "metadata": {},
     "output_type": "display_data"
    },
    {
     "name": "stderr",
     "output_type": "stream",
     "text": [
      "INFO:pykeen.evaluation.evaluator:Starting batch_size search for evaluation now...\n",
      "INFO:pykeen.evaluation.evaluator:Concluded batch_size search with batch_size=256.\n",
      "INFO:pykeen.evaluation.evaluator:Evaluation took 53.77s seconds\n",
      "INFO:pykeen.training.training_loop:=> Saved checkpoint after having finished epoch 10.\n",
      "INFO:pykeen.evaluation.evaluator:Evaluation took 53.51s seconds\n",
      "INFO:pykeen.evaluation.evaluator:Evaluation took 53.58s seconds\n",
      "INFO:pykeen.stoppers.early_stopping:Stopping early after 3 evaluations at epoch 30. The best result hits_at_k=0.0005 occurred at epoch 10.\n",
      "INFO:pykeen.training.training_loop:=> loading checkpoint 'C:\\Users\\hvags\\AppData\\Local\\Temp\\tmpdhukprgz'\n",
      "INFO:pykeen.training.training_loop:=> loaded checkpoint 'C:\\Users\\hvags\\AppData\\Local\\Temp\\tmpdhukprgz' stopped after having finished epoch 10\n"
     ]
    },
    {
     "data": {
      "application/vnd.jupyter.widget-view+json": {
       "model_id": "bb8d4f2af7344832ad0f5d2225a53c90",
       "version_major": 2,
       "version_minor": 0
      },
      "text/plain": [
       "Evaluating on cuda:   0%|          | 0.00/17.0k [00:00<?, ?triple/s]"
      ]
     },
     "metadata": {},
     "output_type": "display_data"
    },
    {
     "name": "stderr",
     "output_type": "stream",
     "text": [
      "INFO:pykeen.evaluation.evaluator:Evaluation took 53.72s seconds\n",
      "\u001b[32m[I 2021-11-11 08:57:53,000]\u001b[0m Trial 4 finished with value: 0.0005557215104274828 and parameters: {'model.embedding_dim': 32, 'loss.margin': 0, 'loss.margin_activation': 'softplus', 'regularizer.weight': 0.5034871788088422, 'optimizer.lr': 0.02270415428534005, 'negative_sampler.num_negs_per_pos': 10, 'training.batch_size': 768}. Best is trial 2 with value: 0.015876730003865875.\u001b[0m\n",
      "C:\\Appl\\Anaconda3\\envs\\cuda\\lib\\site-packages\\optuna\\distributions.py:560: UserWarning: The distribution is specified by [32, 400] and step=64, but the range is not divisible by `step`. It will be replaced by [32, 352].\n",
      "  warnings.warn(\n",
      "WARNING:pykeen.pipeline.api:No random seed is specified. Setting to 578664284.\n"
     ]
    },
    {
     "data": {
      "application/vnd.jupyter.widget-view+json": {
       "model_id": "adb02942220e41269db63d3b218fa070",
       "version_major": 2,
       "version_minor": 0
      },
      "text/plain": [
       "Training epochs on cuda:   0%|          | 0/100 [00:00<?, ?epoch/s]"
      ]
     },
     "metadata": {},
     "output_type": "display_data"
    },
    {
     "name": "stderr",
     "output_type": "stream",
     "text": [
      "INFO:pykeen.evaluation.evaluator:Starting batch_size search for evaluation now...\n",
      "INFO:pykeen.evaluation.evaluator:Concluded batch_size search with batch_size=32.\n",
      "INFO:pykeen.evaluation.evaluator:Evaluation took 249.48s seconds\n",
      "INFO:pykeen.training.training_loop:=> Saved checkpoint after having finished epoch 10.\n",
      "INFO:pykeen.evaluation.evaluator:Evaluation took 252.20s seconds\n",
      "INFO:pykeen.training.training_loop:=> Saved checkpoint after having finished epoch 20.\n",
      "INFO:pykeen.evaluation.evaluator:Evaluation took 251.78s seconds\n",
      "INFO:pykeen.evaluation.evaluator:Evaluation took 252.36s seconds\n",
      "INFO:pykeen.stoppers.early_stopping:Stopping early after 4 evaluations at epoch 40. The best result hits_at_k=0.0004411764705882353 occurred at epoch 20.\n",
      "INFO:pykeen.training.training_loop:=> loading checkpoint 'C:\\Users\\hvags\\AppData\\Local\\Temp\\tmp0722dl0q'\n",
      "INFO:pykeen.training.training_loop:=> loaded checkpoint 'C:\\Users\\hvags\\AppData\\Local\\Temp\\tmp0722dl0q' stopped after having finished epoch 20\n"
     ]
    },
    {
     "data": {
      "application/vnd.jupyter.widget-view+json": {
       "model_id": "2c4ea79fbed34f1cb007355f3c4d93db",
       "version_major": 2,
       "version_minor": 0
      },
      "text/plain": [
       "Evaluating on cuda:   0%|          | 0.00/17.0k [00:00<?, ?triple/s]"
      ]
     },
     "metadata": {},
     "output_type": "display_data"
    },
    {
     "name": "stderr",
     "output_type": "stream",
     "text": [
      "INFO:pykeen.evaluation.evaluator:Evaluation took 255.72s seconds\n",
      "\u001b[32m[I 2021-11-11 09:34:35,104]\u001b[0m Trial 5 finished with value: 0.0005032651402606782 and parameters: {'model.embedding_dim': 288, 'loss.margin': 0, 'loss.margin_activation': 'softplus', 'regularizer.weight': 0.7290459545718545, 'optimizer.lr': 0.01429177676699155, 'negative_sampler.num_negs_per_pos': 15, 'training.batch_size': 1024}. Best is trial 2 with value: 0.015876730003865875.\u001b[0m\n",
      "C:\\Appl\\Anaconda3\\envs\\cuda\\lib\\site-packages\\optuna\\distributions.py:560: UserWarning: The distribution is specified by [32, 400] and step=64, but the range is not divisible by `step`. It will be replaced by [32, 352].\n",
      "  warnings.warn(\n",
      "WARNING:pykeen.pipeline.api:No random seed is specified. Setting to 687109682.\n"
     ]
    },
    {
     "data": {
      "application/vnd.jupyter.widget-view+json": {
       "model_id": "dd0792bcbc3c45358c977ad3ca7831da",
       "version_major": 2,
       "version_minor": 0
      },
      "text/plain": [
       "Training epochs on cuda:   0%|          | 0/100 [00:00<?, ?epoch/s]"
      ]
     },
     "metadata": {},
     "output_type": "display_data"
    },
    {
     "name": "stderr",
     "output_type": "stream",
     "text": [
      "INFO:pykeen.evaluation.evaluator:Starting batch_size search for evaluation now...\n",
      "INFO:pykeen.evaluation.evaluator:Concluded batch_size search with batch_size=256.\n",
      "INFO:pykeen.evaluation.evaluator:Evaluation took 54.13s seconds\n",
      "INFO:pykeen.training.training_loop:=> Saved checkpoint after having finished epoch 10.\n",
      "INFO:pykeen.evaluation.evaluator:Evaluation took 53.94s seconds\n",
      "INFO:pykeen.training.training_loop:=> Saved checkpoint after having finished epoch 20.\n",
      "INFO:pykeen.evaluation.evaluator:Evaluation took 54.17s seconds\n",
      "INFO:pykeen.training.training_loop:=> Saved checkpoint after having finished epoch 30.\n",
      "INFO:pykeen.evaluation.evaluator:Evaluation took 53.95s seconds\n",
      "INFO:pykeen.evaluation.evaluator:Evaluation took 56.34s seconds\n",
      "INFO:pykeen.stoppers.early_stopping:Stopping early after 5 evaluations at epoch 50. The best result hits_at_k=0.00047058823529411766 occurred at epoch 30.\n",
      "INFO:pykeen.training.training_loop:=> loading checkpoint 'C:\\Users\\hvags\\AppData\\Local\\Temp\\tmp0f2ot_46'\n",
      "INFO:pykeen.training.training_loop:=> loaded checkpoint 'C:\\Users\\hvags\\AppData\\Local\\Temp\\tmp0f2ot_46' stopped after having finished epoch 30\n"
     ]
    },
    {
     "data": {
      "application/vnd.jupyter.widget-view+json": {
       "model_id": "da0900d49734413495457a1cac7b07e2",
       "version_major": 2,
       "version_minor": 0
      },
      "text/plain": [
       "Evaluating on cuda:   0%|          | 0.00/17.0k [00:00<?, ?triple/s]"
      ]
     },
     "metadata": {},
     "output_type": "display_data"
    },
    {
     "name": "stderr",
     "output_type": "stream",
     "text": [
      "INFO:pykeen.evaluation.evaluator:Evaluation took 58.89s seconds\n",
      "\u001b[32m[I 2021-11-11 09:43:45,997]\u001b[0m Trial 6 finished with value: 0.0005250615096142644 and parameters: {'model.embedding_dim': 32, 'loss.margin': 2, 'loss.margin_activation': 'softplus', 'regularizer.weight': 0.8041353218290377, 'optimizer.lr': 0.021198415730593334, 'negative_sampler.num_negs_per_pos': 4, 'training.batch_size': 768}. Best is trial 2 with value: 0.015876730003865875.\u001b[0m\n",
      "C:\\Appl\\Anaconda3\\envs\\cuda\\lib\\site-packages\\optuna\\distributions.py:560: UserWarning: The distribution is specified by [32, 400] and step=64, but the range is not divisible by `step`. It will be replaced by [32, 352].\n",
      "  warnings.warn(\n",
      "WARNING:pykeen.pipeline.api:No random seed is specified. Setting to 1174564030.\n"
     ]
    },
    {
     "data": {
      "application/vnd.jupyter.widget-view+json": {
       "model_id": "befc98b4885145c48e8bb8dce8ece8a8",
       "version_major": 2,
       "version_minor": 0
      },
      "text/plain": [
       "Training epochs on cuda:   0%|          | 0/100 [00:00<?, ?epoch/s]"
      ]
     },
     "metadata": {},
     "output_type": "display_data"
    },
    {
     "name": "stderr",
     "output_type": "stream",
     "text": [
      "INFO:pykeen.evaluation.evaluator:Starting batch_size search for evaluation now...\n",
      "INFO:pykeen.evaluation.evaluator:Concluded batch_size search with batch_size=32.\n",
      "INFO:pykeen.evaluation.evaluator:Evaluation took 269.81s seconds\n",
      "INFO:pykeen.training.training_loop:=> Saved checkpoint after having finished epoch 10.\n"
     ]
    }
   ],
   "source": [
    "for dataset_name, dataset in datasets.items():\n",
    "  print(dataset_name)\n",
    "\n",
    "  for model in models:\n",
    "    gc.collect()\n",
    "    torch.cuda.empty_cache()\n",
    "    result = run_hpo_pipeline(dataset_name, dataset, model)\n",
    "    result.save_to_directory(f'{dataset_name}/{model[0]}')\n",
    "    if (SAVE_TO_DRIVE):\n",
    "        result.save_to_directory(f'/content/drive/MyDrive/hpo_results/{dataset_name}/{model[0]}')\n"
   ]
  }
 ],
 "metadata": {
  "accelerator": "GPU",
  "colab": {
   "collapsed_sections": [],
   "name": "Final Project - Embeddings.ipynb",
   "provenance": []
  },
  "kernelspec": {
   "display_name": "Python 3 (ipykernel)",
   "language": "python",
   "name": "python3"
  },
  "language_info": {
   "codemirror_mode": {
    "name": "ipython",
    "version": 3
   },
   "file_extension": ".py",
   "mimetype": "text/x-python",
   "name": "python",
   "nbconvert_exporter": "python",
   "pygments_lexer": "ipython3",
   "version": "3.9.7"
  },
  "widgets": {
   "application/vnd.jupyter.widget-state+json": {}
  }
 },
 "nbformat": 4,
 "nbformat_minor": 5
}
