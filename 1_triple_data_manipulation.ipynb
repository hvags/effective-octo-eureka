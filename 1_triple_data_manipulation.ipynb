{
 "cells": [
  {
   "cell_type": "code",
   "execution_count": 104,
   "metadata": {
    "id": "7P6ENNbRIjOJ"
   },
   "outputs": [],
   "source": [
    "import pandas as pd"
   ]
  },
  {
   "cell_type": "code",
   "execution_count": 105,
   "metadata": {
    "id": "jjbbtdWYAhzL"
   },
   "outputs": [],
   "source": [
    "def remove_symmetric_triples(original):\n",
    "  \"\"\"\n",
    "  Remove all pairs of triples which are symmetric sets.\n",
    "\n",
    "  Input:\n",
    "    dataframe with columns head, relation, tail\n",
    "\n",
    "  Output:\n",
    "    dataframe with columns head, relation, tail\n",
    "\n",
    "  Example:\n",
    "    df_some_sym = pd.DataFrame({'head' : ['e1', 'e3', 'e1', 'e2'],\n",
    "                                'relation':['r1','r2', 'r3', 'r1'],\n",
    "                                'tail': ['e2', 'e4', 'r4', 'e1']})\n",
    "\n",
    "    df_cleaned = remove_symmetric_triples(df_some_sym)\n",
    "\n",
    "    print(df_some_sym)\n",
    "    print('\\\\n')\n",
    "    print(df_cleaned)\n",
    "\n",
    "  Example output:\n",
    "      head relation tail\n",
    "    0   e1       r1   e2\n",
    "    1   e3       r2   e4\n",
    "    2   e1       r3   r4\n",
    "    3   e2       r1   e1\n",
    "\n",
    "      head relation tail\n",
    "    1   e3       r2   e4\n",
    "    2   e1       r3   r4\n",
    "\n",
    "  \"\"\"\n",
    "  inverse = pd.DataFrame()\n",
    "\n",
    "  inverse.insert(loc=0, column='head', value = original['tail'])\n",
    "  inverse.insert(loc=1, column='relation', value = original['relation'])\n",
    "  inverse.insert(loc=2, column='tail', value = original['head'])\n",
    "\n",
    "  diff_df = pd.merge(original, inverse, how='outer', indicator='Exists')\n",
    "  clean = diff_df.loc[diff_df['Exists']== 'left_only'].drop('Exists', axis=1)\n",
    "  return(clean)  \n"
   ]
  },
  {
   "cell_type": "code",
   "execution_count": 106,
   "metadata": {
    "id": "Q8XTiT3rInMI"
   },
   "outputs": [],
   "source": [
    "def add_symmetric_triples(original):\n",
    "  '''\n",
    "  Add symmetric triples to a all the triples in a dataframe\n",
    "\n",
    "  Input:\n",
    "    dataframe with columns head, relation, tail\n",
    "\n",
    "  Output:\n",
    "    dataframe with columns head, relation, tail\n",
    "\n",
    "  Example:\n",
    "    df_some_sym = pd.DataFrame({'head' : ['e1', 'e3', 'e1', 'e2'],\n",
    "                                  'relation':['r1','r2', 'r3', 'r1'],\n",
    "                                  'tail': ['e2', 'e4', 'r4', 'e1']})\n",
    "\n",
    "    full_df = add_symmetric_triples(df_some_sym)\n",
    "\n",
    "    print(df_some_sym) \n",
    "    print('\\\\n')\n",
    "    print(full_df)\n",
    "\n",
    "  Example output:\n",
    "      head relation tail\n",
    "    0   e1       r1   e2\n",
    "    1   e3       r2   e4\n",
    "    2   e1       r3   r4\n",
    "    3   e2       r1   e1\n",
    "\n",
    "\n",
    "      head relation tail\n",
    "    0   e1       r1   e2\n",
    "    1   e3       r2   e4\n",
    "    2   e1       r3   r4\n",
    "    3   e2       r1   e1\n",
    "    5   e4       r2   e3\n",
    "    6   r4       r3   e1\n",
    "\n",
    "  '''\n",
    "  inverse = pd.DataFrame()\n",
    "\n",
    "  inverse.insert(loc=0, column='head', value = original['tail'])\n",
    "  inverse.insert(loc=1, column='relation', value = original['relation'])\n",
    "  inverse.insert(loc=2, column='tail', value = original['head'])\n",
    "\n",
    "  combined = original.append(inverse).reset_index(drop=True).drop_duplicates()\n",
    "  return combined\n"
   ]
  },
  {
   "cell_type": "code",
   "execution_count": 107,
   "metadata": {
    "id": "hPEMnecpD-h1"
   },
   "outputs": [],
   "source": [
    "def split_triples(df, predicates):\n",
    "  '''\n",
    "  Split a dataframe of triples into separate dataframes based on relation\n",
    "\n",
    "  Input:\n",
    "    df - a dataframe of triples where the column holding predicates is named 'relation'\n",
    "    predicates - a list of n lists of predicates\n",
    "\n",
    "  Output:\n",
    "    a list of n dataframes where each dataframe contains the triples with the given predicates for the corresponding index\n",
    "\n",
    "  Example:\n",
    "    df_some_sym = pd.DataFrame({'head' : ['e1', 'e3', 'e1', 'e2'],\n",
    "                                  'relation':['r1','r2', 'r3', 'r1'],\n",
    "                                  'tail': ['e2', 'e4', 'r4', 'e1']})\n",
    "\n",
    "    framelist = split_triples(df_with_sym, [['r1', 'r2'], ['r3'], ['r4']])\n",
    "\n",
    "    print(df_some_sym) \n",
    "    for df in framelist:\n",
    "      print(df)\n",
    "      print('\\\\n')\n",
    "  \n",
    "  Example output:\n",
    "        head relation tail\n",
    "    0   e1       r1   e2\n",
    "    1   e3       r2   e4\n",
    "    2   e1       r3   e5\n",
    "    3   e2       r1   e1\n",
    "\n",
    "\n",
    "      head relation tail\n",
    "    0   e1       r1   e2\n",
    "    1   e2       r1   e1\n",
    "    2   e3       r2   e4\n",
    "\n",
    "\n",
    "      head relation tail\n",
    "    0   e1       r3   e5\n",
    "  '''\n",
    "\n",
    "  split_dfs = []\n",
    "\n",
    "  for predicate_set in predicates:\n",
    "    new_df = pd.DataFrame()\n",
    "    for predicate in predicate_set:    \n",
    "      new_df = new_df.append(df.loc[df['relation'] == predicate]).reset_index(drop=True)\n",
    "    split_dfs.append(new_df)  \n",
    "\n",
    "  return(split_dfs)"
   ]
  },
  {
   "cell_type": "code",
   "execution_count": 108,
   "metadata": {
    "id": "EpknUck-Lhqz"
   },
   "outputs": [],
   "source": [
    "  def count_sym(original):\n",
    "    '''\n",
    "    Count the number of triples in a dataframe that have a symmetric counterpart in the dataframe\n",
    "\n",
    "    Input:\n",
    "      dataframe with columns head, relation, tail\n",
    "\n",
    "    Output:\n",
    "      integer giving a number of tuples (always a multiple of 2 because of the symmetry)\n",
    "\n",
    "    Example:\n",
    "      df_some_sym = pd.DataFrame({'head' : ['e1', 'e3', 'e1', 'e2'],\n",
    "                              'relation':['r1','r2', 'r3', 'r1'],\n",
    "                              'tail': ['e2', 'e4', 'e5', 'e1']})\n",
    "\n",
    "      count_sym(df_some_sym)\n",
    "\n",
    "    Example output:\n",
    "      2\n",
    "    '''\n",
    "      \n",
    "    inverse = pd.DataFrame()\n",
    "\n",
    "    inverse.insert(loc=0, column='head', value = original['tail'])\n",
    "    inverse.insert(loc=1, column='relation', value = original['relation'])\n",
    "    inverse.insert(loc=2, column='tail', value = original['head'])\n",
    "\n",
    "    diff_df = pd.merge(original, inverse, how='outer', indicator='Exists')\n",
    "    symmetric_df = diff_df[diff_df['Exists']== 'both']\n",
    "    symmetric_tuples = symmetric_df.shape[0]\n",
    "    return(symmetric_tuples)"
   ]
  },
  {
   "cell_type": "code",
   "execution_count": 109,
   "metadata": {
    "colab": {
     "base_uri": "https://localhost:8080/"
    },
    "id": "PcBsV1_XUifD",
    "outputId": "48d8547b-d887-4b8a-cc6a-4a5bea42f00d"
   },
   "outputs": [],
   "source": [
    "def get_sym_antisym_pred(df):\n",
    "    '''\n",
    "    Get the symmetric and assymetric predicates, i.e. those who are more commonly\n",
    "    used symmetrically or not.\n",
    "    \n",
    "    Input:\n",
    "        dataframe with columns head, relation, tail\n",
    "    \n",
    "    Output:\n",
    "        a tuple of two lists of predicates\n",
    "    '''\n",
    "\n",
    "    single_preds = []\n",
    "\n",
    "    for item in df['relation'].unique():\n",
    "        single_preds.append([item])\n",
    "\n",
    "    singles = split_triples(df, single_preds)\n",
    "    sym_predicates = []\n",
    "    anti_predicates = []\n",
    "\n",
    "    for item in singles:\n",
    "        name = item['relation'][0]\n",
    "        syms = count_sym(item)\n",
    "        total = item.count()[0]\n",
    "\n",
    "        if (syms>total/2):\n",
    "            sym_predicates.append(name)\n",
    "\n",
    "        else :\n",
    "            anti_predicates.append(name)\n",
    "    \n",
    "    return (sym_predicates, anti_predicates)"
   ]
  },
  {
   "cell_type": "code",
   "execution_count": 110,
   "metadata": {},
   "outputs": [],
   "source": [
    "import os\n",
    "\n",
    "def split_file(filename, sym_predicates, anti_predicates):\n",
    "    '''\n",
    "    Split a tsv file with subject predicate object triples into two files,\n",
    "    based on two lists of predicates.\n",
    "    \n",
    "    Input:\n",
    "        filename - reference to a tsv file with triples\n",
    "        sym_predicates - all predicates which should go into the symmetric portion of the data\n",
    "        anti_predicates - all predicates which should go into the anti symmetric portion of the data\n",
    "        \n",
    "    Output:\n",
    "        two files with prefix sym_ and asym_ for symmetric and anti symmetric data, in the same\n",
    "        folder as the original file\n",
    "    '''\n",
    "    \n",
    "    fullpath = os.path.join(os.getcwd(), filename)\n",
    "    df = pd.read_csv(fullpath, header=None, sep='\\t', names =  ['head','relation', 'tail'])    \n",
    "    \n",
    "    path = os.path.dirname(fullpath)\n",
    "    filename = os.path.basename(fullpath)\n",
    "    \n",
    "    df_list = split_triples(df, [sym_predicates, anti_predicates])\n",
    "    df_list[0].to_csv(os.path.join(path, \"sym_\" +filename), index=False, header=None, sep='\\t')\n",
    "    df_list[1].to_csv(os.path.join(path, \"asym_\" +filename), index=False, header=None, sep='\\t')"
   ]
  },
  {
   "cell_type": "markdown",
   "metadata": {
    "id": "GdDaiCyZJuTQ"
   },
   "source": [
    "# Usage examples"
   ]
  },
  {
   "cell_type": "code",
   "execution_count": 111,
   "metadata": {
    "id": "ADsK370bKNj0"
   },
   "outputs": [],
   "source": [
    "df_some_sym = pd.DataFrame({'head' : ['e1', 'e3', 'e1', 'e2'],\n",
    "                             'relation':['r1','r2', 'r3', 'r1'],\n",
    "                             'tail': ['e2', 'e4', 'e5', 'e1']})"
   ]
  },
  {
   "cell_type": "code",
   "execution_count": 112,
   "metadata": {
    "colab": {
     "base_uri": "https://localhost:8080/"
    },
    "id": "TgJF1qTcMbpM",
    "outputId": "3fd3bc37-a27d-4f29-9d95-2df6b1b0aad5"
   },
   "outputs": [
    {
     "data": {
      "text/plain": [
       "2"
      ]
     },
     "execution_count": 112,
     "metadata": {},
     "output_type": "execute_result"
    }
   ],
   "source": [
    "count_sym(df_some_sym)"
   ]
  },
  {
   "cell_type": "code",
   "execution_count": 113,
   "metadata": {
    "colab": {
     "base_uri": "https://localhost:8080/"
    },
    "id": "ytZmM-dmJPST",
    "outputId": "b5694049-9e4f-49b1-a514-a26b7448a711"
   },
   "outputs": [
    {
     "ename": "IndentationError",
     "evalue": "expected an indented block (Temp/ipykernel_28260/560503284.py, line 5)",
     "output_type": "error",
     "traceback": [
      "\u001b[1;36m  File \u001b[1;32m\"C:\\Users\\hvags\\AppData\\Local\\Temp/ipykernel_28260/560503284.py\"\u001b[1;36m, line \u001b[1;32m5\u001b[0m\n\u001b[1;33m    print('\\n')\u001b[0m\n\u001b[1;37m    ^\u001b[0m\n\u001b[1;31mIndentationError\u001b[0m\u001b[1;31m:\u001b[0m expected an indented block\n"
     ]
    }
   ],
   "source": [
    "framelist = split_triples(df_some_sym, [['r1', 'r2'], ['r3']])\n",
    "\n",
    "print(df_some_sym) \n",
    "for df in framelist:\n",
    "    print('\\n')\n",
    "    print(df)\n",
    "    "
   ]
  },
  {
   "cell_type": "code",
   "execution_count": null,
   "metadata": {
    "colab": {
     "base_uri": "https://localhost:8080/"
    },
    "id": "i8gYSnYjIrql",
    "outputId": "9b0af06b-3213-4fa4-e60f-7e616cb32d3a"
   },
   "outputs": [],
   "source": [
    "full_df = add_symmetric_triples(df_some_sym)\n",
    "\n",
    "print(df_some_sym) \n",
    "print('\\n')\n",
    "print(full_df)"
   ]
  },
  {
   "cell_type": "code",
   "execution_count": null,
   "metadata": {
    "colab": {
     "base_uri": "https://localhost:8080/"
    },
    "id": "WKw_F2FTJGMH",
    "outputId": "c7d69247-d5fd-464e-c781-243e4692f730"
   },
   "outputs": [],
   "source": [
    "df_cleaned = remove_symmetric_triples(df_some_sym)\n",
    "\n",
    "print(df_some_sym)\n",
    "print('\\n')\n",
    "\n",
    "print(df_cleaned)"
   ]
  },
  {
   "cell_type": "markdown",
   "metadata": {
    "id": "v8Nw0bdAFTsj"
   },
   "source": [
    "# Process existing datasets"
   ]
  },
  {
   "cell_type": "code",
   "execution_count": 114,
   "metadata": {
    "colab": {
     "base_uri": "https://localhost:8080/",
     "height": 413
    },
    "id": "amY5Ku1MF8Vh",
    "outputId": "9d34da3d-a169-4214-d8f0-3d506dc35d7e"
   },
   "outputs": [
    {
     "name": "stdout",
     "output_type": "stream",
     "text": [
      "symmetric predicates: ['_derivationally_related_form', '_also_see', '_verb_group', '_similar_to']\n",
      "\n",
      "anti symmetric predicates: ['_hypernym', '_instance_hypernym', '_member_meronym', '_synset_domain_topic_of', '_has_part', '_member_of_domain_usage', '_member_of_domain_region']\n",
      "\n"
     ]
    }
   ],
   "source": [
    "df = pd.read_csv('wn18rr/train_wn18rr.txt', header=None, sep='\\t', names =  ['head','relation', 'tail'])\n",
    "sym_predicates, anti_predicates = get_sym_antisym_pred(df)\n",
    "print ('symmetric predicates: ' + str(sym_predicates) +'\\n')\n",
    "print ('anti symmetric predicates: ' + str(anti_predicates) + '\\n')\n",
    "\n",
    "split_file('wn18rr/train_wn18rr.txt', sym_predicates, anti_predicates)\n",
    "split_file('wn18rr/test_wn18rr.txt', sym_predicates, anti_predicates)\n",
    "split_file('wn18rr/valid_wn18rr.txt', sym_predicates, anti_predicates)"
   ]
  },
  {
   "cell_type": "code",
   "execution_count": null,
   "metadata": {
    "colab": {
     "base_uri": "https://localhost:8080/",
     "height": 413
    },
    "id": "amY5Ku1MF8Vh",
    "outputId": "9d34da3d-a169-4214-d8f0-3d506dc35d7e"
   },
   "outputs": [],
   "source": [
    "df = pd.read_csv('fb15k-237/train.txt', header=None, sep='\\t', names =  ['head','relation', 'tail'])\n",
    "sym_predicates, anti_predicates = get_sym_antisym_pred(df)\n",
    "print ('symmetric predicates: ' + str(sym_predicates) +'\\n')\n",
    "print ('anti symmetric predicates: ' + str(anti_predicates) + '\\n')\n",
    "\n",
    "split_file('fb15k-237/train.txt', sym_predicates, anti_predicates)\n",
    "split_file('fb15k-237/test.txt', sym_predicates, anti_predicates)\n",
    "split_file('fb15k-237/valid.txt', sym_predicates, anti_predicates)"
   ]
  }
 ],
 "metadata": {
  "colab": {
   "collapsed_sections": [],
   "name": "Final Project - Triple Data Manipulation.ipynb",
   "provenance": []
  },
  "kernelspec": {
   "display_name": "Python 3 (ipykernel)",
   "language": "python",
   "name": "python3"
  },
  "language_info": {
   "codemirror_mode": {
    "name": "ipython",
    "version": 3
   },
   "file_extension": ".py",
   "mimetype": "text/x-python",
   "name": "python",
   "nbconvert_exporter": "python",
   "pygments_lexer": "ipython3",
   "version": "3.9.7"
  }
 },
 "nbformat": 4,
 "nbformat_minor": 4
}
