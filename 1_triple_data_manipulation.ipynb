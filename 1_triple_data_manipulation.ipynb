{
 "cells": [
  {
   "cell_type": "code",
   "execution_count": 2,
   "metadata": {
    "id": "7P6ENNbRIjOJ"
   },
   "outputs": [],
   "source": [
    "import pandas as pd"
   ]
  },
  {
   "cell_type": "code",
   "execution_count": 3,
   "metadata": {
    "id": "jjbbtdWYAhzL"
   },
   "outputs": [],
   "source": [
    "def remove_symmetric_triples(original):\n",
    "  \"\"\"\n",
    "  Remove all pairs of triples which are symmetric sets.\n",
    "\n",
    "  Input:\n",
    "    dataframe with columns head, relation, tail\n",
    "\n",
    "  Output:\n",
    "    dataframe with columns head, relation, tail\n",
    "\n",
    "  Example:\n",
    "    df_some_sym = pd.DataFrame({'head' : ['e1', 'e3', 'e1', 'e2'],\n",
    "                                'relation':['r1','r2', 'r3', 'r1'],\n",
    "                                'tail': ['e2', 'e4', 'r4', 'e1']})\n",
    "\n",
    "    df_cleaned = remove_symmetric_triples(df_some_sym)\n",
    "\n",
    "    print(df_some_sym)\n",
    "    print('\\\\n')\n",
    "    print(df_cleaned)\n",
    "\n",
    "  Example output:\n",
    "      head relation tail\n",
    "    0   e1       r1   e2\n",
    "    1   e3       r2   e4\n",
    "    2   e1       r3   r4\n",
    "    3   e2       r1   e1\n",
    "\n",
    "      head relation tail\n",
    "    1   e3       r2   e4\n",
    "    2   e1       r3   r4\n",
    "\n",
    "  \"\"\"\n",
    "  inverse = pd.DataFrame()\n",
    "\n",
    "  inverse.insert(loc=0, column='head', value = original['tail'])\n",
    "  inverse.insert(loc=1, column='relation', value = original['relation'])\n",
    "  inverse.insert(loc=2, column='tail', value = original['head'])\n",
    "\n",
    "  diff_df = pd.merge(original, inverse, how='outer', indicator='Exists')\n",
    "  clean = diff_df.loc[diff_df['Exists']== 'left_only'].drop('Exists', axis=1)\n",
    "  return(clean)  \n"
   ]
  },
  {
   "cell_type": "code",
   "execution_count": 4,
   "metadata": {
    "id": "Q8XTiT3rInMI"
   },
   "outputs": [],
   "source": [
    "def add_symmetric_triples(original):\n",
    "  '''\n",
    "  Add symmetric triples to a all the triples in a dataframe\n",
    "\n",
    "  Input:\n",
    "    dataframe with columns head, relation, tail\n",
    "\n",
    "  Output:\n",
    "    dataframe with columns head, relation, tail\n",
    "\n",
    "  Example:\n",
    "    df_some_sym = pd.DataFrame({'head' : ['e1', 'e3', 'e1', 'e2'],\n",
    "                                  'relation':['r1','r2', 'r3', 'r1'],\n",
    "                                  'tail': ['e2', 'e4', 'r4', 'e1']})\n",
    "\n",
    "    full_df = add_symmetric_triples(df_some_sym)\n",
    "\n",
    "    print(df_some_sym) \n",
    "    print('\\\\n')\n",
    "    print(full_df)\n",
    "\n",
    "  Example output:\n",
    "      head relation tail\n",
    "    0   e1       r1   e2\n",
    "    1   e3       r2   e4\n",
    "    2   e1       r3   r4\n",
    "    3   e2       r1   e1\n",
    "\n",
    "\n",
    "      head relation tail\n",
    "    0   e1       r1   e2\n",
    "    1   e3       r2   e4\n",
    "    2   e1       r3   r4\n",
    "    3   e2       r1   e1\n",
    "    5   e4       r2   e3\n",
    "    6   r4       r3   e1\n",
    "\n",
    "  '''\n",
    "  inverse = pd.DataFrame()\n",
    "\n",
    "  inverse.insert(loc=0, column='head', value = original['tail'])\n",
    "  inverse.insert(loc=1, column='relation', value = original['relation'])\n",
    "  inverse.insert(loc=2, column='tail', value = original['head'])\n",
    "\n",
    "  combined = original.append(inverse).reset_index(drop=True).drop_duplicates()\n",
    "  return combined\n"
   ]
  },
  {
   "cell_type": "code",
   "execution_count": 5,
   "metadata": {
    "id": "hPEMnecpD-h1"
   },
   "outputs": [],
   "source": [
    "def split_triples(df, predicates):\n",
    "  '''\n",
    "  Split a dataframe of triples into separate dataframes based on relation\n",
    "\n",
    "  Input:\n",
    "    df - a dataframe of triples where the column holding predicates is named 'relation'\n",
    "    predicates - a list of n lists of predicates\n",
    "\n",
    "  Output:\n",
    "    a list of n dataframes where each dataframe contains the triples with the given predicates for the corresponding index\n",
    "\n",
    "  Example:\n",
    "    df_some_sym = pd.DataFrame({'head' : ['e1', 'e3', 'e1', 'e2'],\n",
    "                                  'relation':['r1','r2', 'r3', 'r1'],\n",
    "                                  'tail': ['e2', 'e4', 'r4', 'e1']})\n",
    "\n",
    "    framelist = split_triples(df_with_sym, [['r1', 'r2'], ['r3'], ['r4']])\n",
    "\n",
    "    print(df_some_sym) \n",
    "    for df in framelist:\n",
    "      print(df)\n",
    "      print('\\\\n')\n",
    "  \n",
    "  Example output:\n",
    "        head relation tail\n",
    "    0   e1       r1   e2\n",
    "    1   e3       r2   e4\n",
    "    2   e1       r3   e5\n",
    "    3   e2       r1   e1\n",
    "\n",
    "\n",
    "      head relation tail\n",
    "    0   e1       r1   e2\n",
    "    1   e2       r1   e1\n",
    "    2   e3       r2   e4\n",
    "\n",
    "\n",
    "      head relation tail\n",
    "    0   e1       r3   e5\n",
    "  '''\n",
    "\n",
    "  split_dfs = []\n",
    "\n",
    "  for predicate_set in predicates:\n",
    "    new_df = pd.DataFrame()\n",
    "    for predicate in predicate_set:    \n",
    "      new_df = new_df.append(df.loc[df['relation'] == predicate]).reset_index(drop=True)\n",
    "    split_dfs.append(new_df)  \n",
    "\n",
    "  return(split_dfs)"
   ]
  },
  {
   "cell_type": "code",
   "execution_count": 6,
   "metadata": {
    "id": "EpknUck-Lhqz"
   },
   "outputs": [],
   "source": [
    "  def count_sym(original):\n",
    "    '''\n",
    "    Count the number of triples in a dataframe that have a symmetric counterpart in the dataframe\n",
    "\n",
    "    Input:\n",
    "      dataframe with columns head, relation, tail\n",
    "\n",
    "    Output:\n",
    "      integer giving a number of tuples (always a multiple of 2 because of the symmetry)\n",
    "\n",
    "    Example:\n",
    "      df_some_sym = pd.DataFrame({'head' : ['e1', 'e3', 'e1', 'e2'],\n",
    "                              'relation':['r1','r2', 'r3', 'r1'],\n",
    "                              'tail': ['e2', 'e4', 'e5', 'e1']})\n",
    "\n",
    "      count_sym(df_some_sym)\n",
    "\n",
    "    Example output:\n",
    "      2\n",
    "    '''\n",
    "      \n",
    "    inverse = pd.DataFrame()\n",
    "\n",
    "    inverse.insert(loc=0, column='head', value = original['tail'])\n",
    "    inverse.insert(loc=1, column='relation', value = original['relation'])\n",
    "    inverse.insert(loc=2, column='tail', value = original['head'])\n",
    "\n",
    "    diff_df = pd.merge(original, inverse, how='outer', indicator='Exists')\n",
    "    symmetric_df = diff_df[diff_df['Exists']== 'both']\n",
    "    symmetric_tuples = symmetric_df.shape[0]\n",
    "    return(symmetric_tuples)"
   ]
  },
  {
   "cell_type": "code",
   "execution_count": 7,
   "metadata": {
    "colab": {
     "base_uri": "https://localhost:8080/"
    },
    "id": "PcBsV1_XUifD",
    "outputId": "48d8547b-d887-4b8a-cc6a-4a5bea42f00d"
   },
   "outputs": [],
   "source": [
    "def get_sym_antisym_pred(df):\n",
    "    '''\n",
    "    Get the symmetric and assymetric predicates, i.e. those who are more commonly\n",
    "    used symmetrically or not.\n",
    "    \n",
    "    Input:\n",
    "        dataframe with columns head, relation, tail\n",
    "    \n",
    "    Output:\n",
    "        a tuple of two lists of predicates\n",
    "    '''\n",
    "\n",
    "    single_preds = []\n",
    "\n",
    "    for item in df['relation'].unique():\n",
    "        single_preds.append([item])\n",
    "\n",
    "    singles = split_triples(df, single_preds)\n",
    "    sym_predicates = []\n",
    "    anti_predicates = []\n",
    "\n",
    "    for item in singles:\n",
    "        name = item['relation'][0]\n",
    "        syms = count_sym(item)\n",
    "        total = item.count()[0]\n",
    "\n",
    "        if (syms>total/2):\n",
    "            sym_predicates.append(name)\n",
    "\n",
    "        else :\n",
    "            anti_predicates.append(name)\n",
    "    \n",
    "    return (sym_predicates, anti_predicates)"
   ]
  },
  {
   "cell_type": "code",
   "execution_count": 8,
   "metadata": {},
   "outputs": [],
   "source": [
    "import os\n",
    "\n",
    "def split_file(filename, sym_predicates, anti_predicates):\n",
    "    '''\n",
    "    Split a tsv file with subject predicate object triples into two files,\n",
    "    based on two lists of predicates.\n",
    "    \n",
    "    Input:\n",
    "        filename - reference to a tsv file with triples\n",
    "        sym_predicates - all predicates which should go into the symmetric portion of the data\n",
    "        anti_predicates - all predicates which should go into the anti symmetric portion of the data\n",
    "        \n",
    "    Output:\n",
    "        two files with prefix sym_ and asym_ for symmetric and anti symmetric data, in the same\n",
    "        folder as the original file\n",
    "    '''\n",
    "    \n",
    "    fullpath = os.path.join(os.getcwd(), filename)\n",
    "    df = pd.read_csv(fullpath, header=None, sep='\\t', names =  ['head','relation', 'tail'])    \n",
    "    \n",
    "    path = os.path.dirname(fullpath)\n",
    "    filename = os.path.basename(fullpath)\n",
    "    \n",
    "    df_list = split_triples(df, [sym_predicates, anti_predicates])\n",
    "    df_list[0].to_csv(os.path.join(path, \"sym_\" +filename), index=False, header=None, sep='\\t')\n",
    "    df_list[1].to_csv(os.path.join(path, \"asym_\" +filename), index=False, header=None, sep='\\t')"
   ]
  },
  {
   "cell_type": "markdown",
   "metadata": {
    "id": "GdDaiCyZJuTQ"
   },
   "source": [
    "# Usage examples"
   ]
  },
  {
   "cell_type": "code",
   "execution_count": 9,
   "metadata": {
    "id": "ADsK370bKNj0"
   },
   "outputs": [],
   "source": [
    "df_some_sym = pd.DataFrame({'head' : ['e1', 'e3', 'e1', 'e2'],\n",
    "                             'relation':['r1','r2', 'r3', 'r1'],\n",
    "                             'tail': ['e2', 'e4', 'e5', 'e1']})"
   ]
  },
  {
   "cell_type": "code",
   "execution_count": 10,
   "metadata": {
    "colab": {
     "base_uri": "https://localhost:8080/"
    },
    "id": "TgJF1qTcMbpM",
    "outputId": "3fd3bc37-a27d-4f29-9d95-2df6b1b0aad5"
   },
   "outputs": [
    {
     "data": {
      "text/plain": [
       "2"
      ]
     },
     "execution_count": 10,
     "metadata": {},
     "output_type": "execute_result"
    }
   ],
   "source": [
    "count_sym(df_some_sym)"
   ]
  },
  {
   "cell_type": "code",
   "execution_count": 11,
   "metadata": {
    "colab": {
     "base_uri": "https://localhost:8080/"
    },
    "id": "ytZmM-dmJPST",
    "outputId": "b5694049-9e4f-49b1-a514-a26b7448a711"
   },
   "outputs": [
    {
     "name": "stdout",
     "output_type": "stream",
     "text": [
      "  head relation tail\n",
      "0   e1       r1   e2\n",
      "1   e3       r2   e4\n",
      "2   e1       r3   e5\n",
      "3   e2       r1   e1\n",
      "\n",
      "\n",
      "  head relation tail\n",
      "0   e1       r1   e2\n",
      "1   e2       r1   e1\n",
      "2   e3       r2   e4\n",
      "\n",
      "\n",
      "  head relation tail\n",
      "0   e1       r3   e5\n"
     ]
    }
   ],
   "source": [
    "framelist = split_triples(df_some_sym, [['r1', 'r2'], ['r3']])\n",
    "\n",
    "print(df_some_sym) \n",
    "for df in framelist:\n",
    "    print('\\n')\n",
    "    print(df)\n",
    "    "
   ]
  },
  {
   "cell_type": "code",
   "execution_count": 12,
   "metadata": {
    "colab": {
     "base_uri": "https://localhost:8080/"
    },
    "id": "i8gYSnYjIrql",
    "outputId": "9b0af06b-3213-4fa4-e60f-7e616cb32d3a"
   },
   "outputs": [
    {
     "name": "stdout",
     "output_type": "stream",
     "text": [
      "  head relation tail\n",
      "0   e1       r1   e2\n",
      "1   e3       r2   e4\n",
      "2   e1       r3   e5\n",
      "3   e2       r1   e1\n",
      "\n",
      "\n",
      "  head relation tail\n",
      "0   e1       r1   e2\n",
      "1   e3       r2   e4\n",
      "2   e1       r3   e5\n",
      "3   e2       r1   e1\n",
      "5   e4       r2   e3\n",
      "6   e5       r3   e1\n"
     ]
    }
   ],
   "source": [
    "full_df = add_symmetric_triples(df_some_sym)\n",
    "\n",
    "print(df_some_sym) \n",
    "print('\\n')\n",
    "print(full_df)"
   ]
  },
  {
   "cell_type": "code",
   "execution_count": 13,
   "metadata": {
    "colab": {
     "base_uri": "https://localhost:8080/"
    },
    "id": "WKw_F2FTJGMH",
    "outputId": "c7d69247-d5fd-464e-c781-243e4692f730"
   },
   "outputs": [
    {
     "name": "stdout",
     "output_type": "stream",
     "text": [
      "  head relation tail\n",
      "0   e1       r1   e2\n",
      "1   e3       r2   e4\n",
      "2   e1       r3   e5\n",
      "3   e2       r1   e1\n",
      "\n",
      "\n",
      "  head relation tail\n",
      "1   e3       r2   e4\n",
      "2   e1       r3   e5\n"
     ]
    }
   ],
   "source": [
    "df_cleaned = remove_symmetric_triples(df_some_sym)\n",
    "\n",
    "print(df_some_sym)\n",
    "print('\\n')\n",
    "\n",
    "print(df_cleaned)"
   ]
  },
  {
   "cell_type": "markdown",
   "metadata": {
    "id": "v8Nw0bdAFTsj"
   },
   "source": [
    "# Process existing datasets"
   ]
  },
  {
   "cell_type": "code",
   "execution_count": 14,
   "metadata": {
    "colab": {
     "base_uri": "https://localhost:8080/",
     "height": 413
    },
    "id": "amY5Ku1MF8Vh",
    "outputId": "9d34da3d-a169-4214-d8f0-3d506dc35d7e"
   },
   "outputs": [
    {
     "name": "stdout",
     "output_type": "stream",
     "text": [
      "symmetric predicates: ['_derivationally_related_form', '_also_see', '_verb_group', '_similar_to']\n",
      "\n",
      "anti symmetric predicates: ['_hypernym', '_instance_hypernym', '_member_meronym', '_synset_domain_topic_of', '_has_part', '_member_of_domain_usage', '_member_of_domain_region']\n",
      "\n"
     ]
    }
   ],
   "source": [
    "df = pd.read_csv('data/wn18rr/train_wn18rr.txt', header=None, sep='\\t', names =  ['head','relation', 'tail'])\n",
    "sym_predicates, anti_predicates = get_sym_antisym_pred(df)\n",
    "print ('symmetric predicates: ' + str(sym_predicates) +'\\n')\n",
    "print ('anti symmetric predicates: ' + str(anti_predicates) + '\\n')\n",
    "\n",
    "split_file('data/wn18rr/train_wn18rr.txt', sym_predicates, anti_predicates)\n",
    "split_file('data/wn18rr/test_wn18rr.txt', sym_predicates, anti_predicates)\n",
    "split_file('data/wn18rr/valid_wn18rr.txt', sym_predicates, anti_predicates)"
   ]
  },
  {
   "cell_type": "code",
   "execution_count": 16,
   "metadata": {
    "colab": {
     "base_uri": "https://localhost:8080/",
     "height": 413
    },
    "id": "amY5Ku1MF8Vh",
    "outputId": "9d34da3d-a169-4214-d8f0-3d506dc35d7e"
   },
   "outputs": [
    {
     "name": "stdout",
     "output_type": "stream",
     "text": [
      "symmetric predicates: ['/award/award_winner/awards_won./award/award_honor/award_winner', '/award/award_nominee/award_nominations./award/award_nomination/award_nominee', '/music/performance_role/regular_performances./music/group_membership/role', '/base/popstra/celebrity/friendship./base/popstra/friendship/participant', '/base/popstra/celebrity/breakup./base/popstra/breakup/participant', '/location/hud_county_place/place', '/music/performance_role/guest_performances./music/recording_contribution/performance_role', '/location/location/adjoin_s./location/adjoining_relationship/adjoins', '/government/legislative_session/members./government/government_position_held/legislative_sessions', '/music/performance_role/track_performances./music/track_contribution/role', '/base/popstra/celebrity/dated./base/popstra/dated/participant', '/education/educational_institution_campus/educational_institution', '/award/award_nominated_work/award_nominations./award/award_nomination/nominated_for', '/base/saturdaynightlive/snl_cast_member/seasons./base/saturdaynightlive/snl_season_tenure/cast_members', '/celebrities/celebrity/celebrity_friends./celebrities/friendship/friend', '/base/popstra/celebrity/canoodled./base/popstra/canoodled/participant', '/award/award_winning_work/awards_won./award/award_honor/honored_for', '/education/educational_institution/campuses', '/military/military_combatant/military_conflicts./military/military_combatant_group/combatants', '/celebrities/celebrity/sexual_relationships./celebrities/romantic_relationship/celebrity', '/people/person/sibling_s./people/sibling_relationship/sibling', '/sports/sports_position/players./sports/sports_team_roster/position', '/sports/sports_position/players./american_football/football_historical_roster_position/position_s', '/education/field_of_study/students_majoring./education/education/major_field_of_study', '/people/person/spouse_s./people/marriage/spouse', '/influence/influence_node/peers./influence/peer_relationship/peers', '/base/localfood/seasonal_month/produce_available./base/localfood/produce_availability/seasonal_months']\n",
      "\n",
      "anti symmetric predicates: ['/location/country/form_of_government', '/tv/tv_program/regular_cast./tv/regular_tv_appearance/actor', '/media_common/netflix_genre/titles', '/soccer/football_team/current_roster./sports/sports_team_roster/position', '/soccer/football_team/current_roster./soccer/football_roster_position/position', '/film/actor/film./film/performance/film', '/award/award_category/nominees./award/award_nomination/nominated_for', '/award/award_category/winners./award/award_honor/ceremony', '/film/film/release_date_s./film/film_regional_release_date/film_release_distribution_medium', '/award/award_winning_work/awards_won./award/award_honor/award_winner', '/film/film/release_date_s./film/film_regional_release_date/film_release_region', '/film/film/language', '/location/location/contains', '/organization/organization/headquarters./location/mailing_address/country', '/people/person/profession', '/location/statistical_region/religions./location/religion_percentage/religion', '/award/award_nominee/award_nominations./award/award_nomination/award', '/music/genre/artists', '/influence/influence_node/influenced_by', '/education/educational_institution/students_graduates./education/education/student', '/organization/organization_member/member_of./organization/organization_membership/organization', '/people/person/place_of_birth', '/common/topic/webpage./common/webpage/category', '/film/film/other_crew./film/film_crew_gig/film_crew_role', '/award/award_ceremony/awards_presented./award/award_honor/award_winner', '/film/film/country', '/olympics/olympic_sport/athletes./olympics/olympic_athlete_affiliation/country', '/award/award_winning_work/awards_won./award/award_honor/award', '/film/film/genre', '/film/film_distributor/films_distributed./film/film_film_distributor_relationship/film', '/location/statistical_region/rent50_2./measurement_unit/dated_money_value/currency', '/film/film/estimated_budget./measurement_unit/dated_money_value/currency', '/government/legislative_session/members./government/government_position_held/district_represented', '/sports/sports_team/roster./american_football/football_historical_roster_position/position_s', '/government/government_office_category/officeholders./government/government_position_held/jurisdiction_of_office', '/award/award_nominee/award_nominations./award/award_nomination/nominated_for', '/people/deceased_person/place_of_death', '/sports/pro_athlete/teams./sports/sports_team_roster/team', '/music/artist/track_contributions./music/track_contribution/role', '/music/instrument/instrumentalists', '/people/person/gender', '/business/job_title/people_with_this_title./business/employment_tenure/company', '/business/business_operation/industry', '/award/award_category/winners./award/award_honor/award_winner', '/people/person/nationality', '/sports/sports_team/roster./baseball/baseball_roster_position/position', '/people/cause_of_death/people', '/tv/tv_program/languages', '/music/genre/parent_genre', '/location/country/capital', '/film/special_film_performance_type/film_performance_type./film/performance/film', '/film/film_subject/films', '/base/schemastaging/person_extra/net_worth./measurement_unit/dated_money_value/currency', '/education/educational_institution/colors', '/base/aareas/schema/administrative_area/administrative_parent', '/organization/role/leaders./organization/leadership/organization', '/olympics/olympic_games/sports', '/people/person/places_lived./people/place_lived/location', '/award/award_category/disciplines_or_subjects', '/sports/professional_sports_team/draft_picks./sports/sports_league_draft_pick/school', '/olympics/olympic_participating_country/medals_won./olympics/olympic_medal_honor/olympics', '/language/human_language/countries_spoken_in', '/people/ethnicity/people', '/olympics/olympic_participating_country/athletes./olympics/olympic_athlete_affiliation/olympics', '/olympics/olympic_participating_country/medals_won./olympics/olympic_medal_honor/medal', '/film/film/other_crew./film/film_crew_gig/crewmember', '/music/record_label/artist', '/base/locations/continents/countries_within', '/sports/sports_league_draft/picks./sports/sports_league_draft_pick/school', '/sports/sports_team/sport', '/people/person/religion', '/organization/organization/headquarters./location/mailing_address/citytown', '/film/film/produced_by', '/people/person/spouse_s./people/marriage/type_of_union', '/film/film/production_companies', '/location/country/second_level_divisions', '/base/culturalevent/event/entity_involved', '/education/educational_degree/people_with_this_degree./education/education/institution', '/film/film/distributors./film/film_film_distributor_relationship/film_distribution_medium', '/tv/tv_program/tv_producer./tv/tv_producer_term/producer_type', '/music/performance_role/regular_performances./music/group_membership/group', '/government/politician/government_positions_held./government/government_position_held/legislative_sessions', '/sports/sports_team_location/teams', '/sports/sports_team/colors', '/sports/professional_sports_team/draft_picks./sports/sports_league_draft_pick/draft', '/baseball/baseball_team/team_stats./baseball/baseball_team_stats/season', '/user/alexander/philosophy/philosopher/interests', '/people/person/languages', '/education/educational_institution/students_graduates./education/education/major_field_of_study', '/film/director/film', '/award/award_ceremony/awards_presented./award/award_honor/honored_for', '/olympics/olympic_sport/athletes./olympics/olympic_athlete_affiliation/olympics', '/film/film/costume_design_by', '/film/film/featured_film_locations', '/tv/tv_program/genre', '/organization/endowed_organization/endowment./measurement_unit/dated_money_value/currency', '/film/film/written_by', '/tv/tv_producer/programs_produced./tv/tv_producer_term/producer_type', '/location/hud_county_place/county', '/education/educational_degree/people_with_this_degree./education/education/major_field_of_study', '/base/schemastaging/organization_extra/phone_number./base/schemastaging/phone_sandbox/contact_category', '/film/film/film_format', '/film/film/music', '/sports/sports_team/roster./american_football/football_roster_position/position', '/user/tsegaran/random/taxonomy_subject/entry./user/tsegaran/random/taxonomy_entry/taxonomy', '/location/hud_foreclosure_area/estimated_number_of_mortgages./measurement_unit/dated_integer/source', '/base/x2010fifaworldcupsouthafrica/world_cup_squad/current_world_cup_squad./base/x2010fifaworldcupsouthafrica/current_world_cup_squad/current_club', '/base/popstra/location/vacationers./base/popstra/vacation_choice/vacationer', '/education/educational_institution/school_type', '/sports/sport/pro_athletes./sports/pro_sports_played/athlete', '/award/hall_of_fame/inductees./award/hall_of_fame_induction/inductee', '/base/biblioness/bibs_location/state', '/education/university/local_tuition./measurement_unit/dated_money_value/currency', '/business/business_operation/revenue./measurement_unit/dated_money_value/currency', '/sports/sports_position/players./sports/sports_team_roster/team', '/military/military_conflict/combatants./military/military_combatant_group/combatants', '/sports/sports_league/teams./sports/sports_league_participation/team', '/base/biblioness/bibs_location/country', '/music/group_member/membership./music/group_membership/role', '/location/administrative_division/country', '/film/film/executive_produced_by', '/food/food/nutrients./food/nutrition_fact/nutrient', '/music/group_member/membership./music/group_membership/group', '/location/statistical_region/gdp_nominal_per_capita./measurement_unit/dated_money_value/currency', '/education/field_of_study/students_majoring./education/education/student', '/sports/sports_team/roster./basketball/basketball_roster_position/position', '/organization/organization/headquarters./location/mailing_address/state_province_region', '/base/aareas/schema/administrative_area/capital', '/tv/tv_producer/programs_produced./tv/tv_producer_term/program', '/film/film/distributors./film/film_film_distributor_relationship/region', '/travel/travel_destination/climate./travel/travel_destination_monthly_climate/month', '/medicine/disease/notable_people_with_this_condition', '/base/schemastaging/organization_extra/phone_number./base/schemastaging/phone_sandbox/service_location', '/people/ethnicity/geographic_distribution', '/film/film/personal_appearances./film/personal_film_appearance/person', '/location/location/time_zones', '/film/film/story_by', '/base/petbreeds/city_with_dogs/top_breeds./base/petbreeds/dog_city_relationship/dog_breed', '/olympics/olympic_games/participating_countries', '/tv/tv_network/programs./tv/tv_network_duration/program', '/people/person/employment_history./business/employment_tenure/company', '/music/artist/origin', '/people/marriage_union_type/unions_of_this_type./people/marriage/location_of_ceremony', '/tv/tv_writer/tv_programs./tv/tv_program_writer_relationship/tv_program', '/time/event/locations', '/government/political_party/politicians_in_this_party./government/political_party_tenure/politician', '/education/university/domestic_tuition./measurement_unit/dated_money_value/currency', '/organization/non_profit_organization/registered_with./organization/non_profit_registration/registering_agency', '/user/ktrueman/default_domain/international_organization/member_states', '/american_football/football_team/current_roster./sports/sports_team_roster/position', '/soccer/football_player/current_team./sports/sports_team_roster/team', '/olympics/olympic_games/medals_awarded./olympics/olympic_medal_honor/medal', '/award/ranked_item/appears_in_ranked_lists./award/ranking/list', '/film/film_set_designer/film_sets_designed', '/user/jg/default_domain/olympic_games/sports', '/base/marchmadness/ncaa_basketball_tournament/seeds./base/marchmadness/ncaa_tournament_seed/team', '/music/artist/contribution./music/recording_contribution/performance_role', '/government/politician/government_positions_held./government/government_position_held/basic_title', '/people/profession/specialization_of', '/award/award_category/category_of', '/film/film/cinematography', '/film/film/film_production_design_by', '/tv/tv_program/country_of_origin', '/film/film/edited_by', '/tv/tv_personality/tv_regular_appearances./tv/tv_regular_personal_appearance/program', '/education/educational_degree/people_with_this_degree./education/education/student', '/location/us_county/county_seat', '/film/film/film_festivals', '/film/film/runtime./film/film_cut/film_release_region', '/location/capital_of_administrative_division/capital_of./location/administrative_division_capital_relationship/administrative_division', '/base/aareas/schema/administrative_area/administrative_area_type', '/government/governmental_body/members./government/government_position_held/legislative_sessions', '/base/schemastaging/organization_extra/phone_number./base/schemastaging/phone_sandbox/service_language', '/organization/organization/place_founded', '/base/eating/practicer_of_diet/diet', '/tv/tv_program/program_creator', '/people/deceased_person/place_of_burial', '/film/film/release_date_s./film/film_regional_release_date/film_regional_debut_venue', '/ice_hockey/hockey_team/current_roster./sports/sports_team_roster/position', '/location/administrative_division/first_level_division_of', '/location/statistical_region/gdp_real./measurement_unit/adjusted_money_value/adjustment_currency', '/organization/organization/child./organization/organization_relationship/child', '/business/business_operation/assets./measurement_unit/dated_money_value/currency', '/film/person_or_entity_appearing_in_film/films./film/personal_film_appearance/type_of_appearance', '/time/event/instance_of_recurring_event', '/tv/non_character_role/tv_regular_personal_appearances./tv/tv_regular_personal_appearance/person', '/film/actor/film./film/performance/special_performance_type', '/business/business_operation/operating_income./measurement_unit/dated_money_value/currency', '/people/ethnicity/languages_spoken', '/base/americancomedy/celebrity_impressionist/celebrities_impersonated', '/medicine/symptom/symptom_of', '/education/university/fraternities_and_sororities', '/location/statistical_region/places_exported_to./location/imports_and_exports/exported_to', '/location/statistical_region/gdp_nominal./measurement_unit/dated_money_value/currency', '/travel/travel_destination/how_to_get_here./travel/transportation/mode_of_transportation', '/location/country/official_language', '/location/location/partially_contains', '/film/film/film_art_direction_by', '/people/person/spouse_s./people/marriage/location_of_ceremony', '/education/university/international_tuition./measurement_unit/dated_money_value/currency', '/organization/organization_founder/organizations_founded', '/film/film/dubbing_performances./film/dubbing_performance/actor', '/dataworld/gardening_hint/split_to', '/medicine/disease/risk_factors', '/film/film/prequel', '/film/actor/dubbing_performances./film/dubbing_performance/language', '/broadcast/content/artist', '/location/statistical_region/gni_per_capita_in_ppp_dollars./measurement_unit/dated_money_value/currency', '/music/instrument/family', '/government/politician/government_positions_held./government/government_position_held/jurisdiction_of_office']\n",
      "\n"
     ]
    }
   ],
   "source": [
    "df = pd.read_csv('data/fb15k-237/train_fb15k-237.txt', header=None, sep='\\t', names =  ['head','relation', 'tail'])\n",
    "sym_predicates, anti_predicates = get_sym_antisym_pred(df)\n",
    "print ('symmetric predicates: ' + str(sym_predicates) +'\\n')\n",
    "print ('anti symmetric predicates: ' + str(anti_predicates) + '\\n')\n",
    "\n",
    "split_file('data/fb15k-237/train_fb15k-237.txt', sym_predicates, anti_predicates)\n",
    "split_file('data/fb15k-237/test_fb15k-237.txt', sym_predicates, anti_predicates)\n",
    "split_file('data/fb15k-237/valid_fb15k-237.txt', sym_predicates, anti_predicates)"
   ]
  }
 ],
 "metadata": {
  "colab": {
   "collapsed_sections": [],
   "name": "Final Project - Triple Data Manipulation.ipynb",
   "provenance": []
  },
  "kernelspec": {
   "display_name": "Python 3 (ipykernel)",
   "language": "python",
   "name": "python3"
  },
  "language_info": {
   "codemirror_mode": {
    "name": "ipython",
    "version": 3
   },
   "file_extension": ".py",
   "mimetype": "text/x-python",
   "name": "python",
   "nbconvert_exporter": "python",
   "pygments_lexer": "ipython3",
   "version": "3.9.7"
  }
 },
 "nbformat": 4,
 "nbformat_minor": 4
}
